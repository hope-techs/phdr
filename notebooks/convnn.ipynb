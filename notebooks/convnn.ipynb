{
 "cells": [
  {
   "cell_type": "code",
   "execution_count": 48,
   "metadata": {},
   "outputs": [],
   "source": [
    "import keras\n",
    "from keras.models import Sequential\n",
    "from keras.layers import (Dense, Activation, Dropout, Conv2D, MaxPool2D, Flatten)\n",
    "from keras.utils import plot_model\n",
    "import numpy as np\n",
    "from skimage.transform import resize\n",
    "import plotly.express as px\n",
    "import plotly.graph_objs as go\n",
    "\n",
    "from phdr.data.hoda_dataset_reader import read_hoda_cdb, read_hoda_dataset"
   ]
  },
  {
   "cell_type": "code",
   "execution_count": 49,
   "metadata": {},
   "outputs": [],
   "source": [
    "np.random.seed(42)"
   ]
  },
  {
   "cell_type": "code",
   "execution_count": 50,
   "metadata": {},
   "outputs": [
    {
     "name": "stdout",
     "output_type": "stream",
     "text": [
      "Reading Train 60000.cdb ...\n",
      "Reading Test 20000.cdb ...\n"
     ]
    }
   ],
   "source": [
    "dataset_path = \"../data/raw/hoda/\"\n",
    "\n",
    "print('Reading Train 60000.cdb ...')\n",
    "x_train_org, y_train_org = read_hoda_cdb(dataset_path + 'train_60k.cdb')\n",
    "\n",
    "print('Reading Test 20000.cdb ...')\n",
    "x_test_org, y_test_org = read_hoda_cdb(dataset_path + 'test_20k.cdb')\n",
    "\n",
    "# print('Reading RemainingSamples.cdb ...')\n",
    "# remaining_images, remaining_labels = read_hoda_cdb(dataset_path + 'remaining_samples.cdb')"
   ]
  },
  {
   "cell_type": "code",
   "execution_count": 17,
   "metadata": {},
   "outputs": [
    {
     "name": "stdout",
     "output_type": "stream",
     "text": [
      "60000\n",
      "20000\n"
     ]
    }
   ],
   "source": [
    "print(len(y_train_org))\n",
    "print(len(y_test_org))"
   ]
  },
  {
   "cell_type": "code",
   "execution_count": 51,
   "metadata": {},
   "outputs": [
    {
     "name": "stdout",
     "output_type": "stream",
     "text": [
      "7200\n",
      "1800\n",
      "3000\n"
     ]
    }
   ],
   "source": [
    "data_ratio = 0.15\n",
    "x_train = x_train_org[:int(len(x_train_org) * data_ratio)]\n",
    "y_train = y_train_org[:int(len(y_train_org) * data_ratio)]\n",
    "x_test = x_test_org[:int(len(x_test_org) * data_ratio)]\n",
    "y_test = y_test_org[:int(len(y_test_org) * data_ratio)]\n",
    "\n",
    "x_valid = x_train[int(len(x_train) * 0.8):]\n",
    "y_valid = y_train[int(len(y_train) * 0.8):]\n",
    "\n",
    "x_train = x_train[:int(len(x_train) * 0.8)]\n",
    "y_train = y_train[:int(len(y_train) * 0.8)]\n",
    "\n",
    "print(len(x_train))\n",
    "print(len(x_valid))\n",
    "print(len(x_test))"
   ]
  },
  {
   "cell_type": "code",
   "execution_count": 52,
   "metadata": {},
   "outputs": [
    {
     "data": {
      "text/plain": [
       "(25, 25)"
      ]
     },
     "execution_count": 52,
     "metadata": {},
     "output_type": "execute_result"
    }
   ],
   "source": [
    "# reshape images to 25x25\n",
    "x_train = [resize(image, (25, 25)) for image in x_train]\n",
    "x_valid = [resize(image, (25, 25)) for image in x_valid]\n",
    "x_test = [resize(image, (25, 25)) for image in x_test]\n",
    "x_test[-1].shape"
   ]
  },
  {
   "cell_type": "code",
   "execution_count": 53,
   "metadata": {},
   "outputs": [
    {
     "name": "stdout",
     "output_type": "stream",
     "text": [
      "(25, 25)\n"
     ]
    },
    {
     "data": {
      "text/plain": [
       "(25, 25)"
      ]
     },
     "execution_count": 53,
     "metadata": {},
     "output_type": "execute_result"
    }
   ],
   "source": [
    "print(x_test[0].shape)\n",
    "x_test[-1].shape"
   ]
  },
  {
   "cell_type": "code",
   "execution_count": 54,
   "metadata": {},
   "outputs": [
    {
     "name": "stdout",
     "output_type": "stream",
     "text": [
      "(3000, 25, 25)\n",
      "(3000, 10)\n"
     ]
    }
   ],
   "source": [
    "x_train = np.array(x_train).astype('float32')\n",
    "y_train = keras.utils.to_categorical(y_train, 10)\n",
    "x_valid = np.array(x_valid).astype('float32')\n",
    "y_valid = keras.utils.to_categorical(y_valid, 10)\n",
    "x_test = np.array(x_test).astype('float32')\n",
    "y_test = keras.utils.to_categorical(y_test, 10)\n",
    "x_train /= 255\n",
    "x_test /= 255\n",
    "print(x_test.shape)\n",
    "print(y_test.shape)"
   ]
  },
  {
   "cell_type": "code",
   "execution_count": 66,
   "metadata": {},
   "outputs": [
    {
     "name": "stdout",
     "output_type": "stream",
     "text": [
      "Model: \"sequential_7\"\n",
      "_________________________________________________________________\n",
      " Layer (type)                Output Shape              Param #   \n",
      "=================================================================\n",
      " conv2d_17 (Conv2D)          (None, 23, 23, 25)        250       \n",
      "                                                                 \n",
      " max_pooling2d_12 (MaxPoolin  (None, 11, 11, 25)       0         \n",
      " g2D)                                                            \n",
      "                                                                 \n",
      " conv2d_18 (Conv2D)          (None, 9, 9, 64)          14464     \n",
      "                                                                 \n",
      " max_pooling2d_13 (MaxPoolin  (None, 4, 4, 64)         0         \n",
      " g2D)                                                            \n",
      "                                                                 \n",
      " conv2d_19 (Conv2D)          (None, 2, 2, 64)          36928     \n",
      "                                                                 \n",
      " flatten_6 (Flatten)         (None, 256)               0         \n",
      "                                                                 \n",
      " dense_14 (Dense)            (None, 64)                16448     \n",
      "                                                                 \n",
      " dropout_6 (Dropout)         (None, 64)                0         \n",
      "                                                                 \n",
      " dense_15 (Dense)            (None, 10)                650       \n",
      "                                                                 \n",
      "=================================================================\n",
      "Total params: 68,740\n",
      "Trainable params: 68,740\n",
      "Non-trainable params: 0\n",
      "_________________________________________________________________\n"
     ]
    }
   ],
   "source": [
    "model = Sequential()\n",
    "model.add(Conv2D(25, (3, 3), activation='relu', input_shape=(25, 25, 1)))\n",
    "model.add(MaxPool2D(2, 2))\n",
    "model.add(Conv2D(64, (3, 3), activation='relu'))\n",
    "model.add(MaxPool2D(2, 2))\n",
    "model.add(Conv2D(64, (3, 3), activation='relu'))\n",
    "model.add(Flatten())\n",
    "model.add(Dense(64, activation='relu'))\n",
    "model.add(Dropout(0.5))\n",
    "model.add(Dense(10, activation='softmax'))\n",
    "model.summary()"
   ]
  },
  {
   "cell_type": "code",
   "execution_count": 67,
   "metadata": {},
   "outputs": [
    {
     "data": {
      "image/png": "[encoded data removed]",
      "text/plain": [
       "<IPython.core.display.Image object>"
      ]
     },
     "execution_count": 67,
     "metadata": {},
     "output_type": "execute_result"
    }
   ],
   "source": [
    "plot_model(model, show_shapes=True)"
   ]
  },
  {
   "cell_type": "code",
   "execution_count": 68,
   "metadata": {},
   "outputs": [],
   "source": [
    "model.compile(\n",
    "    loss='categorical_crossentropy',\n",
    "    optimizer='adam',\n",
    "    metrics=['accuracy'],\n",
    ")"
   ]
  },
  {
   "cell_type": "code",
   "execution_count": 76,
   "metadata": {},
   "outputs": [
    {
     "name": "stdout",
     "output_type": "stream",
     "text": [
      "Epoch 1/200\n",
      "57/57 [==============================] - 1s 11ms/step - loss: 0.1422 - accuracy: 0.9485 - val_loss: 331.4106 - val_accuracy: 0.4600\n",
      "Epoch 2/200\n",
      "57/57 [==============================] - 1s 11ms/step - loss: 0.1307 - accuracy: 0.9533 - val_loss: 347.1815 - val_accuracy: 0.4517\n",
      "Epoch 3/200\n",
      "57/57 [==============================] - 1s 12ms/step - loss: 0.1286 - accuracy: 0.9543 - val_loss: 334.9058 - val_accuracy: 0.4572\n",
      "Epoch 4/200\n",
      "57/57 [==============================] - 1s 10ms/step - loss: 0.1261 - accuracy: 0.9551 - val_loss: 382.5135 - val_accuracy: 0.4356\n",
      "Epoch 5/200\n",
      "57/57 [==============================] - 1s 10ms/step - loss: 0.1287 - accuracy: 0.9556 - val_loss: 315.2821 - val_accuracy: 0.4772\n",
      "Epoch 6/200\n",
      "57/57 [==============================] - 1s 10ms/step - loss: 0.1236 - accuracy: 0.9568 - val_loss: 354.6005 - val_accuracy: 0.4533\n",
      "Epoch 7/200\n",
      "57/57 [==============================] - 1s 10ms/step - loss: 0.1214 - accuracy: 0.9571 - val_loss: 379.1333 - val_accuracy: 0.4372\n",
      "Epoch 8/200\n",
      "57/57 [==============================] - 1s 10ms/step - loss: 0.1274 - accuracy: 0.9551 - val_loss: 384.1877 - val_accuracy: 0.4367\n",
      "Epoch 9/200\n",
      "57/57 [==============================] - 1s 10ms/step - loss: 0.1194 - accuracy: 0.9581 - val_loss: 383.9647 - val_accuracy: 0.4439\n",
      "Epoch 10/200\n",
      "57/57 [==============================] - 1s 10ms/step - loss: 0.1217 - accuracy: 0.9551 - val_loss: 378.0892 - val_accuracy: 0.4344\n",
      "Epoch 11/200\n",
      "57/57 [==============================] - 1s 12ms/step - loss: 0.1242 - accuracy: 0.9578 - val_loss: 399.3243 - val_accuracy: 0.4344\n",
      "Epoch 12/200\n",
      "57/57 [==============================] - 1s 11ms/step - loss: 0.1228 - accuracy: 0.9558 - val_loss: 451.6942 - val_accuracy: 0.4083\n",
      "Epoch 13/200\n",
      "57/57 [==============================] - 1s 10ms/step - loss: 0.1211 - accuracy: 0.9560 - val_loss: 429.3434 - val_accuracy: 0.4156\n",
      "Epoch 14/200\n",
      "57/57 [==============================] - 1s 10ms/step - loss: 0.1230 - accuracy: 0.9579 - val_loss: 426.7810 - val_accuracy: 0.4156\n",
      "Epoch 15/200\n",
      "57/57 [==============================] - 1s 10ms/step - loss: 0.1161 - accuracy: 0.9592 - val_loss: 407.4484 - val_accuracy: 0.4294\n",
      "Epoch 16/200\n",
      "57/57 [==============================] - 1s 10ms/step - loss: 0.1188 - accuracy: 0.9563 - val_loss: 419.6566 - val_accuracy: 0.4228\n",
      "Epoch 17/200\n",
      "57/57 [==============================] - 1s 10ms/step - loss: 0.1182 - accuracy: 0.9558 - val_loss: 434.9864 - val_accuracy: 0.4183\n",
      "Epoch 18/200\n",
      "57/57 [==============================] - 1s 11ms/step - loss: 0.1183 - accuracy: 0.9579 - val_loss: 346.7268 - val_accuracy: 0.4700\n",
      "Epoch 19/200\n",
      "57/57 [==============================] - 1s 11ms/step - loss: 0.1176 - accuracy: 0.9596 - val_loss: 382.3692 - val_accuracy: 0.4389\n",
      "Epoch 20/200\n",
      "57/57 [==============================] - 1s 10ms/step - loss: 0.1136 - accuracy: 0.9610 - val_loss: 435.4991 - val_accuracy: 0.4106\n",
      "Epoch 21/200\n",
      "57/57 [==============================] - 1s 11ms/step - loss: 0.1162 - accuracy: 0.9572 - val_loss: 415.0353 - val_accuracy: 0.4278\n",
      "Epoch 22/200\n",
      "57/57 [==============================] - 1s 10ms/step - loss: 0.1128 - accuracy: 0.9636 - val_loss: 461.5663 - val_accuracy: 0.4133\n",
      "Epoch 23/200\n",
      "57/57 [==============================] - 1s 11ms/step - loss: 0.1110 - accuracy: 0.9607 - val_loss: 466.3476 - val_accuracy: 0.4078\n",
      "Epoch 24/200\n",
      "57/57 [==============================] - 1s 10ms/step - loss: 0.1059 - accuracy: 0.9624 - val_loss: 419.3871 - val_accuracy: 0.4406\n",
      "Epoch 25/200\n",
      "57/57 [==============================] - 1s 10ms/step - loss: 0.1082 - accuracy: 0.9619 - val_loss: 395.3919 - val_accuracy: 0.4478\n",
      "Epoch 26/200\n",
      "57/57 [==============================] - 1s 11ms/step - loss: 0.1045 - accuracy: 0.9636 - val_loss: 384.5903 - val_accuracy: 0.4622\n",
      "Epoch 27/200\n",
      "57/57 [==============================] - 1s 11ms/step - loss: 0.1094 - accuracy: 0.9622 - val_loss: 358.9686 - val_accuracy: 0.4872\n",
      "Epoch 28/200\n",
      "57/57 [==============================] - 1s 11ms/step - loss: 0.1095 - accuracy: 0.9626 - val_loss: 385.9338 - val_accuracy: 0.4600\n",
      "Epoch 29/200\n",
      "57/57 [==============================] - 1s 10ms/step - loss: 0.1152 - accuracy: 0.9582 - val_loss: 403.4199 - val_accuracy: 0.4533\n",
      "Epoch 30/200\n",
      "57/57 [==============================] - 1s 11ms/step - loss: 0.1154 - accuracy: 0.9586 - val_loss: 410.4713 - val_accuracy: 0.4483\n",
      "Epoch 31/200\n",
      "57/57 [==============================] - 1s 11ms/step - loss: 0.1068 - accuracy: 0.9626 - val_loss: 398.7241 - val_accuracy: 0.4722\n",
      "Epoch 32/200\n",
      "57/57 [==============================] - 1s 11ms/step - loss: 0.1078 - accuracy: 0.9631 - val_loss: 391.3637 - val_accuracy: 0.4817\n",
      "Epoch 33/200\n",
      "57/57 [==============================] - 1s 11ms/step - loss: 0.1029 - accuracy: 0.9619 - val_loss: 435.4044 - val_accuracy: 0.4467\n",
      "Epoch 34/200\n",
      "57/57 [==============================] - 1s 11ms/step - loss: 0.1031 - accuracy: 0.9635 - val_loss: 407.9360 - val_accuracy: 0.4728\n",
      "Epoch 35/200\n",
      "57/57 [==============================] - 1s 11ms/step - loss: 0.1014 - accuracy: 0.9656 - val_loss: 360.6260 - val_accuracy: 0.4961\n",
      "Epoch 36/200\n",
      "57/57 [==============================] - 1s 11ms/step - loss: 0.1013 - accuracy: 0.9622 - val_loss: 406.7413 - val_accuracy: 0.4761\n",
      "Epoch 37/200\n",
      "57/57 [==============================] - 1s 10ms/step - loss: 0.1015 - accuracy: 0.9633 - val_loss: 402.9984 - val_accuracy: 0.4728\n",
      "Epoch 38/200\n",
      "57/57 [==============================] - 1s 11ms/step - loss: 0.0999 - accuracy: 0.9644 - val_loss: 424.4552 - val_accuracy: 0.4639\n",
      "Epoch 39/200\n",
      "57/57 [==============================] - 1s 10ms/step - loss: 0.1039 - accuracy: 0.9633 - val_loss: 478.8768 - val_accuracy: 0.4250\n",
      "Epoch 40/200\n",
      "57/57 [==============================] - 1s 12ms/step - loss: 0.0978 - accuracy: 0.9657 - val_loss: 457.5769 - val_accuracy: 0.4517\n",
      "Epoch 41/200\n",
      "57/57 [==============================] - 1s 11ms/step - loss: 0.0929 - accuracy: 0.9679 - val_loss: 389.2042 - val_accuracy: 0.4950\n",
      "Epoch 42/200\n",
      "57/57 [==============================] - 1s 11ms/step - loss: 0.0936 - accuracy: 0.9657 - val_loss: 469.2802 - val_accuracy: 0.4550\n",
      "Epoch 43/200\n",
      "57/57 [==============================] - 1s 11ms/step - loss: 0.0910 - accuracy: 0.9692 - val_loss: 443.7756 - val_accuracy: 0.4750\n",
      "Epoch 44/200\n",
      "57/57 [==============================] - 1s 11ms/step - loss: 0.0889 - accuracy: 0.9694 - val_loss: 436.7279 - val_accuracy: 0.4750\n",
      "Epoch 45/200\n",
      "57/57 [==============================] - 1s 11ms/step - loss: 0.0951 - accuracy: 0.9692 - val_loss: 398.5534 - val_accuracy: 0.4850\n",
      "Epoch 46/200\n",
      "57/57 [==============================] - 1s 11ms/step - loss: 0.0928 - accuracy: 0.9678 - val_loss: 475.3203 - val_accuracy: 0.4567\n",
      "Epoch 47/200\n",
      "57/57 [==============================] - 1s 12ms/step - loss: 0.0918 - accuracy: 0.9681 - val_loss: 410.7619 - val_accuracy: 0.4789\n",
      "Epoch 48/200\n",
      "57/57 [==============================] - 1s 11ms/step - loss: 0.0879 - accuracy: 0.9689 - val_loss: 402.4124 - val_accuracy: 0.4950\n",
      "Epoch 49/200\n",
      "57/57 [==============================] - 1s 11ms/step - loss: 0.0870 - accuracy: 0.9692 - val_loss: 417.3340 - val_accuracy: 0.4911\n",
      "Epoch 50/200\n",
      "57/57 [==============================] - 1s 11ms/step - loss: 0.0906 - accuracy: 0.9665 - val_loss: 416.0070 - val_accuracy: 0.4978\n",
      "Epoch 51/200\n",
      "57/57 [==============================] - 1s 11ms/step - loss: 0.0886 - accuracy: 0.9675 - val_loss: 494.2385 - val_accuracy: 0.4589\n",
      "Epoch 52/200\n",
      "57/57 [==============================] - 1s 11ms/step - loss: 0.0905 - accuracy: 0.9674 - val_loss: 555.0467 - val_accuracy: 0.4461\n",
      "Epoch 53/200\n",
      "57/57 [==============================] - 1s 11ms/step - loss: 0.0828 - accuracy: 0.9694 - val_loss: 447.2484 - val_accuracy: 0.4817\n",
      "Epoch 54/200\n",
      "57/57 [==============================] - 1s 12ms/step - loss: 0.0850 - accuracy: 0.9696 - val_loss: 378.4703 - val_accuracy: 0.5128\n",
      "Epoch 55/200\n",
      "57/57 [==============================] - 1s 12ms/step - loss: 0.0878 - accuracy: 0.9672 - val_loss: 431.3775 - val_accuracy: 0.4911\n",
      "Epoch 56/200\n",
      "57/57 [==============================] - 1s 12ms/step - loss: 0.0832 - accuracy: 0.9676 - val_loss: 391.7115 - val_accuracy: 0.5078\n",
      "Epoch 57/200\n",
      "57/57 [==============================] - 1s 13ms/step - loss: 0.0872 - accuracy: 0.9688 - val_loss: 503.3726 - val_accuracy: 0.4739\n",
      "Epoch 58/200\n",
      "57/57 [==============================] - 1s 13ms/step - loss: 0.0773 - accuracy: 0.9726 - val_loss: 510.1146 - val_accuracy: 0.4756\n",
      "Epoch 59/200\n",
      "57/57 [==============================] - 1s 13ms/step - loss: 0.0826 - accuracy: 0.9685 - val_loss: 403.1781 - val_accuracy: 0.5167\n",
      "Epoch 60/200\n",
      "57/57 [==============================] - 1s 12ms/step - loss: 0.0799 - accuracy: 0.9699 - val_loss: 459.4904 - val_accuracy: 0.4872\n",
      "Epoch 61/200\n",
      "57/57 [==============================] - 1s 11ms/step - loss: 0.0863 - accuracy: 0.9669 - val_loss: 410.2100 - val_accuracy: 0.5128\n",
      "Epoch 62/200\n",
      "57/57 [==============================] - 1s 11ms/step - loss: 0.0791 - accuracy: 0.9729 - val_loss: 481.8752 - val_accuracy: 0.4806\n",
      "Epoch 63/200\n",
      "57/57 [==============================] - 1s 11ms/step - loss: 0.0806 - accuracy: 0.9717 - val_loss: 403.9829 - val_accuracy: 0.5139\n",
      "Epoch 64/200\n",
      "57/57 [==============================] - 1s 11ms/step - loss: 0.0832 - accuracy: 0.9703 - val_loss: 474.9246 - val_accuracy: 0.4761\n",
      "Epoch 65/200\n",
      "57/57 [==============================] - 1s 11ms/step - loss: 0.0834 - accuracy: 0.9704 - val_loss: 385.6851 - val_accuracy: 0.5250\n",
      "Epoch 66/200\n",
      "57/57 [==============================] - 1s 12ms/step - loss: 0.0767 - accuracy: 0.9742 - val_loss: 509.4266 - val_accuracy: 0.4656\n",
      "Epoch 67/200\n",
      "57/57 [==============================] - 1s 12ms/step - loss: 0.0761 - accuracy: 0.9728 - val_loss: 461.6154 - val_accuracy: 0.5000\n",
      "Epoch 68/200\n",
      "57/57 [==============================] - 1s 11ms/step - loss: 0.0755 - accuracy: 0.9722 - val_loss: 524.4062 - val_accuracy: 0.4617\n",
      "Epoch 69/200\n",
      "57/57 [==============================] - 1s 11ms/step - loss: 0.0744 - accuracy: 0.9739 - val_loss: 474.9527 - val_accuracy: 0.4983\n",
      "Epoch 70/200\n",
      "57/57 [==============================] - 1s 11ms/step - loss: 0.0731 - accuracy: 0.9739 - val_loss: 431.1475 - val_accuracy: 0.5267\n",
      "Epoch 71/200\n",
      "57/57 [==============================] - 1s 11ms/step - loss: 0.0677 - accuracy: 0.9758 - val_loss: 384.7672 - val_accuracy: 0.5456\n",
      "Epoch 72/200\n",
      "57/57 [==============================] - 1s 11ms/step - loss: 0.0795 - accuracy: 0.9711 - val_loss: 413.9686 - val_accuracy: 0.5267\n",
      "Epoch 73/200\n",
      "57/57 [==============================] - 1s 12ms/step - loss: 0.0653 - accuracy: 0.9778 - val_loss: 462.6625 - val_accuracy: 0.5039\n",
      "Epoch 74/200\n",
      "57/57 [==============================] - 1s 11ms/step - loss: 0.0675 - accuracy: 0.9761 - val_loss: 428.0358 - val_accuracy: 0.5244\n",
      "Epoch 75/200\n",
      "57/57 [==============================] - 1s 11ms/step - loss: 0.0655 - accuracy: 0.9756 - val_loss: 495.6700 - val_accuracy: 0.4939\n",
      "Epoch 76/200\n",
      "57/57 [==============================] - 1s 11ms/step - loss: 0.0723 - accuracy: 0.9721 - val_loss: 482.9904 - val_accuracy: 0.4978\n",
      "Epoch 77/200\n",
      "57/57 [==============================] - 1s 11ms/step - loss: 0.0794 - accuracy: 0.9701 - val_loss: 485.6337 - val_accuracy: 0.5022\n",
      "Epoch 78/200\n",
      "57/57 [==============================] - 1s 11ms/step - loss: 0.0710 - accuracy: 0.9749 - val_loss: 611.1486 - val_accuracy: 0.4517\n",
      "Epoch 79/200\n",
      "57/57 [==============================] - 1s 11ms/step - loss: 0.0698 - accuracy: 0.9762 - val_loss: 436.2330 - val_accuracy: 0.5222\n",
      "Epoch 80/200\n",
      "57/57 [==============================] - 1s 12ms/step - loss: 0.0732 - accuracy: 0.9736 - val_loss: 469.6112 - val_accuracy: 0.5056\n",
      "Epoch 81/200\n",
      "57/57 [==============================] - 1s 12ms/step - loss: 0.0728 - accuracy: 0.9737 - val_loss: 443.6633 - val_accuracy: 0.5378\n",
      "Epoch 82/200\n",
      "57/57 [==============================] - 1s 11ms/step - loss: 0.0693 - accuracy: 0.9750 - val_loss: 459.6291 - val_accuracy: 0.5072\n",
      "Epoch 83/200\n",
      "57/57 [==============================] - 1s 11ms/step - loss: 0.0688 - accuracy: 0.9765 - val_loss: 448.1664 - val_accuracy: 0.5222\n",
      "Epoch 84/200\n",
      "57/57 [==============================] - 1s 11ms/step - loss: 0.0661 - accuracy: 0.9762 - val_loss: 414.0555 - val_accuracy: 0.5472\n",
      "Epoch 85/200\n",
      "57/57 [==============================] - 1s 11ms/step - loss: 0.0652 - accuracy: 0.9768 - val_loss: 338.8237 - val_accuracy: 0.5967\n",
      "Epoch 86/200\n",
      "57/57 [==============================] - 1s 12ms/step - loss: 0.0682 - accuracy: 0.9725 - val_loss: 532.5809 - val_accuracy: 0.5000\n",
      "Epoch 87/200\n",
      "57/57 [==============================] - 1s 12ms/step - loss: 0.0692 - accuracy: 0.9737 - val_loss: 611.9343 - val_accuracy: 0.4656\n",
      "Epoch 88/200\n",
      "57/57 [==============================] - 1s 12ms/step - loss: 0.0655 - accuracy: 0.9765 - val_loss: 506.0259 - val_accuracy: 0.5028\n",
      "Epoch 89/200\n",
      "57/57 [==============================] - 1s 12ms/step - loss: 0.0612 - accuracy: 0.9772 - val_loss: 490.2235 - val_accuracy: 0.5106\n",
      "Epoch 90/200\n",
      "57/57 [==============================] - 1s 11ms/step - loss: 0.0607 - accuracy: 0.9768 - val_loss: 547.8949 - val_accuracy: 0.4867\n",
      "Epoch 91/200\n",
      "57/57 [==============================] - 1s 11ms/step - loss: 0.0641 - accuracy: 0.9760 - val_loss: 500.4550 - val_accuracy: 0.5000\n",
      "Epoch 92/200\n",
      "57/57 [==============================] - 1s 12ms/step - loss: 0.0633 - accuracy: 0.9771 - val_loss: 502.3745 - val_accuracy: 0.5189\n",
      "Epoch 93/200\n",
      "57/57 [==============================] - 1s 12ms/step - loss: 0.0629 - accuracy: 0.9760 - val_loss: 549.6549 - val_accuracy: 0.4906\n",
      "Epoch 94/200\n",
      "57/57 [==============================] - 1s 11ms/step - loss: 0.0644 - accuracy: 0.9756 - val_loss: 512.0934 - val_accuracy: 0.5122\n",
      "Epoch 95/200\n",
      "57/57 [==============================] - 1s 11ms/step - loss: 0.0684 - accuracy: 0.9756 - val_loss: 521.1456 - val_accuracy: 0.4994\n",
      "Epoch 96/200\n",
      "57/57 [==============================] - 1s 11ms/step - loss: 0.0673 - accuracy: 0.9756 - val_loss: 428.6945 - val_accuracy: 0.5450\n",
      "Epoch 97/200\n",
      "57/57 [==============================] - 1s 11ms/step - loss: 0.0560 - accuracy: 0.9789 - val_loss: 454.0047 - val_accuracy: 0.5339\n",
      "Epoch 98/200\n",
      "57/57 [==============================] - 1s 11ms/step - loss: 0.0613 - accuracy: 0.9774 - val_loss: 539.9510 - val_accuracy: 0.4950\n",
      "Epoch 99/200\n",
      "57/57 [==============================] - 1s 11ms/step - loss: 0.0595 - accuracy: 0.9768 - val_loss: 520.3206 - val_accuracy: 0.5217\n",
      "Epoch 100/200\n",
      "57/57 [==============================] - 1s 11ms/step - loss: 0.0583 - accuracy: 0.9786 - val_loss: 533.5114 - val_accuracy: 0.5033\n",
      "Epoch 101/200\n",
      "57/57 [==============================] - 1s 11ms/step - loss: 0.0618 - accuracy: 0.9764 - val_loss: 501.7807 - val_accuracy: 0.5272\n",
      "Epoch 102/200\n",
      "57/57 [==============================] - 1s 11ms/step - loss: 0.0604 - accuracy: 0.9772 - val_loss: 562.4199 - val_accuracy: 0.5028\n",
      "Epoch 103/200\n",
      "57/57 [==============================] - 1s 12ms/step - loss: 0.0558 - accuracy: 0.9794 - val_loss: 437.5101 - val_accuracy: 0.5667\n",
      "Epoch 104/200\n",
      "57/57 [==============================] - 1s 11ms/step - loss: 0.0571 - accuracy: 0.9800 - val_loss: 509.2274 - val_accuracy: 0.5311\n",
      "Epoch 105/200\n",
      "57/57 [==============================] - 1s 11ms/step - loss: 0.0481 - accuracy: 0.9835 - val_loss: 546.3471 - val_accuracy: 0.5028\n",
      "Epoch 106/200\n",
      "57/57 [==============================] - 1s 12ms/step - loss: 0.0613 - accuracy: 0.9765 - val_loss: 538.8259 - val_accuracy: 0.5122\n",
      "Epoch 107/200\n",
      "57/57 [==============================] - 1s 11ms/step - loss: 0.0549 - accuracy: 0.9797 - val_loss: 509.1806 - val_accuracy: 0.5289\n",
      "Epoch 108/200\n",
      "57/57 [==============================] - 1s 11ms/step - loss: 0.0575 - accuracy: 0.9778 - val_loss: 558.2917 - val_accuracy: 0.5228\n",
      "Epoch 109/200\n",
      "57/57 [==============================] - 1s 11ms/step - loss: 0.0514 - accuracy: 0.9818 - val_loss: 580.2532 - val_accuracy: 0.5089\n",
      "Epoch 110/200\n",
      "57/57 [==============================] - 1s 12ms/step - loss: 0.0558 - accuracy: 0.9799 - val_loss: 642.9386 - val_accuracy: 0.4717\n",
      "Epoch 111/200\n",
      "57/57 [==============================] - 1s 11ms/step - loss: 0.0581 - accuracy: 0.9794 - val_loss: 604.2300 - val_accuracy: 0.4839\n",
      "Epoch 112/200\n",
      "57/57 [==============================] - 1s 11ms/step - loss: 0.0565 - accuracy: 0.9779 - val_loss: 588.5569 - val_accuracy: 0.4956\n",
      "Epoch 113/200\n",
      "57/57 [==============================] - 1s 11ms/step - loss: 0.0506 - accuracy: 0.9801 - val_loss: 589.7151 - val_accuracy: 0.5106\n",
      "Epoch 114/200\n",
      "57/57 [==============================] - 1s 11ms/step - loss: 0.0550 - accuracy: 0.9787 - val_loss: 425.4597 - val_accuracy: 0.5800\n",
      "Epoch 115/200\n",
      "57/57 [==============================] - 1s 11ms/step - loss: 0.0509 - accuracy: 0.9797 - val_loss: 501.0713 - val_accuracy: 0.5400\n",
      "Epoch 116/200\n",
      "57/57 [==============================] - 1s 11ms/step - loss: 0.0481 - accuracy: 0.9828 - val_loss: 530.9272 - val_accuracy: 0.5289\n",
      "Epoch 117/200\n",
      "57/57 [==============================] - 1s 11ms/step - loss: 0.0494 - accuracy: 0.9810 - val_loss: 575.0240 - val_accuracy: 0.5089\n",
      "Epoch 118/200\n",
      "57/57 [==============================] - 1s 11ms/step - loss: 0.0518 - accuracy: 0.9811 - val_loss: 552.6234 - val_accuracy: 0.5183\n",
      "Epoch 119/200\n",
      "57/57 [==============================] - 1s 12ms/step - loss: 0.0472 - accuracy: 0.9818 - val_loss: 552.8499 - val_accuracy: 0.5206\n",
      "Epoch 120/200\n",
      "57/57 [==============================] - 1s 11ms/step - loss: 0.0507 - accuracy: 0.9800 - val_loss: 468.1623 - val_accuracy: 0.5617\n",
      "Epoch 121/200\n",
      "57/57 [==============================] - 1s 12ms/step - loss: 0.0491 - accuracy: 0.9828 - val_loss: 587.4344 - val_accuracy: 0.5150\n",
      "Epoch 122/200\n",
      "57/57 [==============================] - 1s 11ms/step - loss: 0.0487 - accuracy: 0.9829 - val_loss: 649.9971 - val_accuracy: 0.4878\n",
      "Epoch 123/200\n",
      "57/57 [==============================] - 1s 12ms/step - loss: 0.0537 - accuracy: 0.9793 - val_loss: 602.5937 - val_accuracy: 0.5128\n",
      "Epoch 124/200\n",
      "57/57 [==============================] - 1s 11ms/step - loss: 0.0523 - accuracy: 0.9804 - val_loss: 565.9108 - val_accuracy: 0.5139\n",
      "Epoch 125/200\n",
      "57/57 [==============================] - 1s 11ms/step - loss: 0.0472 - accuracy: 0.9836 - val_loss: 621.7900 - val_accuracy: 0.5056\n",
      "Epoch 126/200\n",
      "57/57 [==============================] - 1s 12ms/step - loss: 0.0580 - accuracy: 0.9800 - val_loss: 525.6481 - val_accuracy: 0.5333\n",
      "Epoch 127/200\n",
      "57/57 [==============================] - 1s 11ms/step - loss: 0.0488 - accuracy: 0.9818 - val_loss: 411.0100 - val_accuracy: 0.5950\n",
      "Epoch 128/200\n",
      "57/57 [==============================] - 1s 11ms/step - loss: 0.0456 - accuracy: 0.9844 - val_loss: 581.4727 - val_accuracy: 0.5256\n",
      "Epoch 129/200\n",
      "57/57 [==============================] - 1s 11ms/step - loss: 0.0506 - accuracy: 0.9804 - val_loss: 629.7939 - val_accuracy: 0.5139\n",
      "Epoch 130/200\n",
      "57/57 [==============================] - 1s 11ms/step - loss: 0.0499 - accuracy: 0.9800 - val_loss: 603.8373 - val_accuracy: 0.5211\n",
      "Epoch 131/200\n",
      "57/57 [==============================] - 1s 11ms/step - loss: 0.0511 - accuracy: 0.9811 - val_loss: 639.6437 - val_accuracy: 0.5133\n",
      "Epoch 132/200\n",
      "57/57 [==============================] - 1s 11ms/step - loss: 0.0497 - accuracy: 0.9826 - val_loss: 450.5167 - val_accuracy: 0.6000\n",
      "Epoch 133/200\n",
      "57/57 [==============================] - 1s 11ms/step - loss: 0.0473 - accuracy: 0.9822 - val_loss: 607.4431 - val_accuracy: 0.5228\n",
      "Epoch 134/200\n",
      "57/57 [==============================] - 1s 11ms/step - loss: 0.0504 - accuracy: 0.9800 - val_loss: 613.2893 - val_accuracy: 0.5144\n",
      "Epoch 135/200\n",
      "57/57 [==============================] - 1s 11ms/step - loss: 0.0454 - accuracy: 0.9829 - val_loss: 604.6091 - val_accuracy: 0.5322\n",
      "Epoch 136/200\n",
      "57/57 [==============================] - 1s 12ms/step - loss: 0.0490 - accuracy: 0.9818 - val_loss: 558.5772 - val_accuracy: 0.5389\n",
      "Epoch 137/200\n",
      "57/57 [==============================] - 1s 11ms/step - loss: 0.0433 - accuracy: 0.9822 - val_loss: 383.2763 - val_accuracy: 0.6450\n",
      "Epoch 138/200\n",
      "57/57 [==============================] - 1s 12ms/step - loss: 0.0466 - accuracy: 0.9817 - val_loss: 532.6772 - val_accuracy: 0.5678\n",
      "Epoch 139/200\n",
      "57/57 [==============================] - 1s 11ms/step - loss: 0.0418 - accuracy: 0.9836 - val_loss: 480.7596 - val_accuracy: 0.5917\n",
      "Epoch 140/200\n",
      "57/57 [==============================] - 1s 11ms/step - loss: 0.0439 - accuracy: 0.9839 - val_loss: 567.2571 - val_accuracy: 0.5383\n",
      "Epoch 141/200\n",
      "57/57 [==============================] - 1s 11ms/step - loss: 0.0511 - accuracy: 0.9808 - val_loss: 577.1196 - val_accuracy: 0.5339\n",
      "Epoch 142/200\n",
      "57/57 [==============================] - 1s 11ms/step - loss: 0.0427 - accuracy: 0.9846 - val_loss: 671.1752 - val_accuracy: 0.5056\n",
      "Epoch 143/200\n",
      "57/57 [==============================] - 1s 11ms/step - loss: 0.0415 - accuracy: 0.9839 - val_loss: 604.2834 - val_accuracy: 0.5333\n",
      "Epoch 144/200\n",
      "57/57 [==============================] - 1s 11ms/step - loss: 0.0497 - accuracy: 0.9819 - val_loss: 511.4434 - val_accuracy: 0.5828\n",
      "Epoch 145/200\n",
      "57/57 [==============================] - 1s 11ms/step - loss: 0.0412 - accuracy: 0.9843 - val_loss: 678.2542 - val_accuracy: 0.5100\n",
      "Epoch 146/200\n",
      "57/57 [==============================] - 1s 12ms/step - loss: 0.0390 - accuracy: 0.9850 - val_loss: 619.8030 - val_accuracy: 0.5372\n",
      "Epoch 147/200\n",
      "57/57 [==============================] - 1s 11ms/step - loss: 0.0440 - accuracy: 0.9822 - val_loss: 650.8891 - val_accuracy: 0.5178\n",
      "Epoch 148/200\n",
      "57/57 [==============================] - 1s 11ms/step - loss: 0.0433 - accuracy: 0.9835 - val_loss: 673.0822 - val_accuracy: 0.5056\n",
      "Epoch 149/200\n",
      "57/57 [==============================] - 1s 11ms/step - loss: 0.0428 - accuracy: 0.9850 - val_loss: 631.0669 - val_accuracy: 0.5239\n",
      "Epoch 150/200\n",
      "57/57 [==============================] - 1s 11ms/step - loss: 0.0393 - accuracy: 0.9844 - val_loss: 563.2706 - val_accuracy: 0.5622\n",
      "Epoch 151/200\n",
      "57/57 [==============================] - 1s 12ms/step - loss: 0.0409 - accuracy: 0.9844 - val_loss: 570.0634 - val_accuracy: 0.5567\n",
      "Epoch 152/200\n",
      "57/57 [==============================] - 1s 12ms/step - loss: 0.0397 - accuracy: 0.9851 - val_loss: 579.8853 - val_accuracy: 0.5539\n",
      "Epoch 153/200\n",
      "57/57 [==============================] - 1s 12ms/step - loss: 0.0416 - accuracy: 0.9835 - val_loss: 643.9976 - val_accuracy: 0.5294\n",
      "Epoch 154/200\n",
      "57/57 [==============================] - 1s 12ms/step - loss: 0.0450 - accuracy: 0.9833 - val_loss: 686.5543 - val_accuracy: 0.5228\n",
      "Epoch 155/200\n",
      "57/57 [==============================] - 1s 11ms/step - loss: 0.0423 - accuracy: 0.9847 - val_loss: 592.7846 - val_accuracy: 0.5483\n",
      "Epoch 156/200\n",
      "57/57 [==============================] - 1s 12ms/step - loss: 0.0382 - accuracy: 0.9860 - val_loss: 785.9374 - val_accuracy: 0.5000\n",
      "Epoch 157/200\n",
      "57/57 [==============================] - 1s 11ms/step - loss: 0.0426 - accuracy: 0.9829 - val_loss: 637.1369 - val_accuracy: 0.5239\n",
      "Epoch 158/200\n",
      "57/57 [==============================] - 1s 11ms/step - loss: 0.0407 - accuracy: 0.9849 - val_loss: 757.3398 - val_accuracy: 0.5072\n",
      "Epoch 159/200\n",
      "57/57 [==============================] - 1s 11ms/step - loss: 0.0399 - accuracy: 0.9847 - val_loss: 751.0311 - val_accuracy: 0.5094\n",
      "Epoch 160/200\n",
      "57/57 [==============================] - 1s 11ms/step - loss: 0.0423 - accuracy: 0.9836 - val_loss: 723.6418 - val_accuracy: 0.5067\n",
      "Epoch 161/200\n",
      "57/57 [==============================] - 1s 12ms/step - loss: 0.0388 - accuracy: 0.9846 - val_loss: 718.7390 - val_accuracy: 0.5133\n",
      "Epoch 162/200\n",
      "57/57 [==============================] - 1s 11ms/step - loss: 0.0409 - accuracy: 0.9847 - val_loss: 731.0311 - val_accuracy: 0.5161\n",
      "Epoch 163/200\n",
      "57/57 [==============================] - 1s 11ms/step - loss: 0.0414 - accuracy: 0.9844 - val_loss: 618.0526 - val_accuracy: 0.5633\n",
      "Epoch 164/200\n",
      "57/57 [==============================] - 1s 12ms/step - loss: 0.0472 - accuracy: 0.9839 - val_loss: 563.1649 - val_accuracy: 0.5739\n",
      "Epoch 165/200\n",
      "57/57 [==============================] - 1s 11ms/step - loss: 0.0430 - accuracy: 0.9836 - val_loss: 713.2309 - val_accuracy: 0.5222\n",
      "Epoch 166/200\n",
      "57/57 [==============================] - 1s 11ms/step - loss: 0.0396 - accuracy: 0.9849 - val_loss: 606.4531 - val_accuracy: 0.5722\n",
      "Epoch 167/200\n",
      "57/57 [==============================] - 1s 12ms/step - loss: 0.0422 - accuracy: 0.9844 - val_loss: 821.9352 - val_accuracy: 0.4850\n",
      "Epoch 168/200\n",
      "57/57 [==============================] - 1s 11ms/step - loss: 0.0404 - accuracy: 0.9850 - val_loss: 766.7612 - val_accuracy: 0.5106\n",
      "Epoch 169/200\n",
      "57/57 [==============================] - 1s 11ms/step - loss: 0.0331 - accuracy: 0.9865 - val_loss: 757.6406 - val_accuracy: 0.5172\n",
      "Epoch 170/200\n",
      "57/57 [==============================] - 1s 11ms/step - loss: 0.0391 - accuracy: 0.9853 - val_loss: 775.9799 - val_accuracy: 0.5017\n",
      "Epoch 171/200\n",
      "57/57 [==============================] - 1s 11ms/step - loss: 0.0419 - accuracy: 0.9829 - val_loss: 624.2300 - val_accuracy: 0.5689\n",
      "Epoch 172/200\n",
      "57/57 [==============================] - 1s 11ms/step - loss: 0.0332 - accuracy: 0.9875 - val_loss: 679.1021 - val_accuracy: 0.5528\n",
      "Epoch 173/200\n",
      "57/57 [==============================] - 1s 11ms/step - loss: 0.0402 - accuracy: 0.9847 - val_loss: 759.1539 - val_accuracy: 0.5028\n",
      "Epoch 174/200\n",
      "57/57 [==============================] - 1s 12ms/step - loss: 0.0363 - accuracy: 0.9862 - val_loss: 655.4884 - val_accuracy: 0.5294\n",
      "Epoch 175/200\n",
      "57/57 [==============================] - 1s 11ms/step - loss: 0.0366 - accuracy: 0.9862 - val_loss: 671.8801 - val_accuracy: 0.5500\n",
      "Epoch 176/200\n",
      "57/57 [==============================] - 1s 11ms/step - loss: 0.0365 - accuracy: 0.9872 - val_loss: 823.5237 - val_accuracy: 0.5006\n",
      "Epoch 177/200\n",
      "57/57 [==============================] - 1s 11ms/step - loss: 0.0430 - accuracy: 0.9836 - val_loss: 786.8406 - val_accuracy: 0.5078\n",
      "Epoch 178/200\n",
      "57/57 [==============================] - 1s 11ms/step - loss: 0.0382 - accuracy: 0.9861 - val_loss: 699.8479 - val_accuracy: 0.5339\n",
      "Epoch 179/200\n",
      "57/57 [==============================] - 1s 12ms/step - loss: 0.0371 - accuracy: 0.9867 - val_loss: 647.8795 - val_accuracy: 0.5483\n",
      "Epoch 180/200\n",
      "57/57 [==============================] - 1s 12ms/step - loss: 0.0366 - accuracy: 0.9862 - val_loss: 667.3260 - val_accuracy: 0.5511\n",
      "Epoch 181/200\n",
      "57/57 [==============================] - 1s 12ms/step - loss: 0.0332 - accuracy: 0.9878 - val_loss: 760.1410 - val_accuracy: 0.5267\n",
      "Epoch 182/200\n",
      "57/57 [==============================] - 1s 11ms/step - loss: 0.0314 - accuracy: 0.9875 - val_loss: 712.6809 - val_accuracy: 0.5461\n",
      "Epoch 183/200\n",
      "57/57 [==============================] - 1s 11ms/step - loss: 0.0378 - accuracy: 0.9853 - val_loss: 531.1880 - val_accuracy: 0.6228\n",
      "Epoch 184/200\n",
      "57/57 [==============================] - 1s 11ms/step - loss: 0.0341 - accuracy: 0.9867 - val_loss: 828.8768 - val_accuracy: 0.5183\n",
      "Epoch 185/200\n",
      "57/57 [==============================] - 1s 12ms/step - loss: 0.0402 - accuracy: 0.9849 - val_loss: 702.1352 - val_accuracy: 0.5422\n",
      "Epoch 186/200\n",
      "57/57 [==============================] - 1s 11ms/step - loss: 0.0394 - accuracy: 0.9849 - val_loss: 684.2289 - val_accuracy: 0.5439\n",
      "Epoch 187/200\n",
      "57/57 [==============================] - 1s 12ms/step - loss: 0.0377 - accuracy: 0.9851 - val_loss: 674.1452 - val_accuracy: 0.5417\n",
      "Epoch 188/200\n",
      "57/57 [==============================] - 1s 12ms/step - loss: 0.0332 - accuracy: 0.9879 - val_loss: 701.8486 - val_accuracy: 0.5411\n",
      "Epoch 189/200\n",
      "57/57 [==============================] - 1s 12ms/step - loss: 0.0281 - accuracy: 0.9885 - val_loss: 801.9598 - val_accuracy: 0.5111\n",
      "Epoch 190/200\n",
      "57/57 [==============================] - 1s 13ms/step - loss: 0.0357 - accuracy: 0.9874 - val_loss: 627.2850 - val_accuracy: 0.5617\n",
      "Epoch 191/200\n",
      "57/57 [==============================] - 1s 11ms/step - loss: 0.0340 - accuracy: 0.9868 - val_loss: 615.1985 - val_accuracy: 0.5739\n",
      "Epoch 192/200\n",
      "57/57 [==============================] - 1s 12ms/step - loss: 0.0348 - accuracy: 0.9876 - val_loss: 716.6950 - val_accuracy: 0.5406\n",
      "Epoch 193/200\n",
      "57/57 [==============================] - 1s 11ms/step - loss: 0.0348 - accuracy: 0.9857 - val_loss: 705.0767 - val_accuracy: 0.5556\n",
      "Epoch 194/200\n",
      "57/57 [==============================] - 1s 11ms/step - loss: 0.0306 - accuracy: 0.9882 - val_loss: 670.7959 - val_accuracy: 0.5672\n",
      "Epoch 195/200\n",
      "57/57 [==============================] - 1s 12ms/step - loss: 0.0350 - accuracy: 0.9860 - val_loss: 821.0015 - val_accuracy: 0.5250\n",
      "Epoch 196/200\n",
      "57/57 [==============================] - 1s 11ms/step - loss: 0.0369 - accuracy: 0.9874 - val_loss: 603.4630 - val_accuracy: 0.5900\n",
      "Epoch 197/200\n",
      "57/57 [==============================] - 1s 12ms/step - loss: 0.0313 - accuracy: 0.9879 - val_loss: 663.9663 - val_accuracy: 0.5667\n",
      "Epoch 198/200\n",
      "57/57 [==============================] - 1s 11ms/step - loss: 0.0346 - accuracy: 0.9864 - val_loss: 696.6935 - val_accuracy: 0.5572\n",
      "Epoch 199/200\n",
      "57/57 [==============================] - 1s 11ms/step - loss: 0.0371 - accuracy: 0.9843 - val_loss: 791.1022 - val_accuracy: 0.5372\n",
      "Epoch 200/200\n",
      "57/57 [==============================] - 1s 12ms/step - loss: 0.0319 - accuracy: 0.9890 - val_loss: 687.1036 - val_accuracy: 0.5611\n"
     ]
    }
   ],
   "source": [
    "history = model.fit(\n",
    "    x_train,\n",
    "    y_train,\n",
    "    epochs=200,\n",
    "    batch_size=128,\n",
    "    validation_data=(x_valid, y_valid),\n",
    "    verbose=True\n",
    ")"
   ]
  },
  {
   "cell_type": "code",
   "execution_count": 77,
   "metadata": {},
   "outputs": [
    {
     "data": {
      "application/vnd.plotly.v1+json": {
       "config": {
        "plotlyServerURL": "https://plot.ly"
       },
       "data": [
        {
         "mode": "lines+markers",
         "name": "Train",
         "type": "scatter",
         "y": [
          0.9484722018241882,
          0.95333331823349,
          0.9543055295944214,
          0.9551388621330261,
          0.9555555582046509,
          0.9568055272102356,
          0.9570833444595337,
          0.9551388621330261,
          0.9580555558204651,
          0.9551388621330261,
          0.9577777981758118,
          0.9558333158493042,
          0.9559721946716309,
          0.9579166769981384,
          0.9591666460037231,
          0.956250011920929,
          0.9558333158493042,
          0.9579166769981384,
          0.9595833420753479,
          0.960972249507904,
          0.9572222232818604,
          0.9636111259460449,
          0.960694432258606,
          0.9623610973358154,
          0.9619444608688354,
          0.9636111259460449,
          0.9622222185134888,
          0.9626389145851135,
          0.9581944346427917,
          0.9586111307144165,
          0.9626389145851135,
          0.9630555510520935,
          0.9619444608688354,
          0.9634722471237183,
          0.9655555486679077,
          0.9622222185134888,
          0.9633333086967468,
          0.9644444584846497,
          0.9633333086967468,
          0.9656944274902344,
          0.9679166674613953,
          0.9656944274902344,
          0.9691666960716248,
          0.9694444537162781,
          0.9691666960716248,
          0.9677777886390686,
          0.9680555462837219,
          0.9688888788223267,
          0.9691666960716248,
          0.9665277600288391,
          0.9674999713897705,
          0.9673610925674438,
          0.9694444537162781,
          0.9695833325386047,
          0.9672222137451172,
          0.9676389098167419,
          0.96875,
          0.9726389050483704,
          0.9684722423553467,
          0.9698610901832581,
          0.9669444561004639,
          0.9729166626930237,
          0.971666693687439,
          0.9702777862548828,
          0.9704166650772095,
          0.9741666913032532,
          0.972777783870697,
          0.9722222089767456,
          0.9738888740539551,
          0.9738888740539551,
          0.9758333563804626,
          0.9711111187934875,
          0.9777777791023254,
          0.976111114025116,
          0.9755555391311646,
          0.972083330154419,
          0.9701389074325562,
          0.9748610854148865,
          0.9762499928474426,
          0.9736111164093018,
          0.9737499952316284,
          0.9750000238418579,
          0.976527750492096,
          0.9762499928474426,
          0.976805567741394,
          0.9725000262260437,
          0.9737499952316284,
          0.976527750492096,
          0.977222204208374,
          0.976805567741394,
          0.9759722352027893,
          0.9770833253860474,
          0.9759722352027893,
          0.9755555391311646,
          0.9755555391311646,
          0.9755555391311646,
          0.9788888692855835,
          0.9773610830307007,
          0.976805567741394,
          0.9786111116409302,
          0.9763888716697693,
          0.977222204208374,
          0.9794444441795349,
          0.9800000190734863,
          0.9834722280502319,
          0.976527750492096,
          0.9797222018241882,
          0.9777777791023254,
          0.9818055629730225,
          0.9798611402511597,
          0.9794444441795349,
          0.9779166579246521,
          0.980138897895813,
          0.9787499904632568,
          0.9797222018241882,
          0.9827777743339539,
          0.9809722304344177,
          0.9811111092567444,
          0.9818055629730225,
          0.9800000190734863,
          0.9827777743339539,
          0.9829166531562805,
          0.9793055653572083,
          0.9804166555404663,
          0.9836111068725586,
          0.9800000190734863,
          0.9818055629730225,
          0.9844444394111633,
          0.9804166555404663,
          0.9800000190734863,
          0.9811111092567444,
          0.9826388955116272,
          0.9822221994400024,
          0.9800000190734863,
          0.9829166531562805,
          0.9818055629730225,
          0.9822221994400024,
          0.9816666841506958,
          0.9836111068725586,
          0.9838888645172119,
          0.9808333516120911,
          0.98458331823349,
          0.9838888645172119,
          0.9819444417953491,
          0.9843055605888367,
          0.9850000143051147,
          0.9822221994400024,
          0.9834722280502319,
          0.9850000143051147,
          0.9844444394111633,
          0.9844444394111633,
          0.9851388931274414,
          0.9834722280502319,
          0.9833333492279053,
          0.9847221970558167,
          0.9859722256660461,
          0.9829166531562805,
          0.9848611354827881,
          0.9847221970558167,
          0.9836111068725586,
          0.98458331823349,
          0.9847221970558167,
          0.9844444394111633,
          0.9838888645172119,
          0.9836111068725586,
          0.9848611354827881,
          0.9844444394111633,
          0.9850000143051147,
          0.9865278005599976,
          0.9852777719497681,
          0.9829166531562805,
          0.987500011920929,
          0.9847221970558167,
          0.9862499833106995,
          0.9862499833106995,
          0.9872221946716309,
          0.9836111068725586,
          0.9861111044883728,
          0.9866666793823242,
          0.9862499833106995,
          0.9877777695655823,
          0.987500011920929,
          0.9852777719497681,
          0.9866666793823242,
          0.9848611354827881,
          0.9848611354827881,
          0.9851388931274414,
          0.9879166483879089,
          0.9884722232818604,
          0.9873611330986023,
          0.9868055582046509,
          0.9876388907432556,
          0.9856944680213928,
          0.988194465637207,
          0.9859722256660461,
          0.9873611330986023,
          0.9879166483879089,
          0.9863888621330261,
          0.9843055605888367,
          0.9890277981758118
         ]
        },
        {
         "mode": "lines+markers",
         "name": "Validation",
         "type": "scatter",
         "y": [
          0.46000000834465027,
          0.4516666531562805,
          0.45722222328186035,
          0.4355555474758148,
          0.4772222340106964,
          0.4533333480358124,
          0.4372222125530243,
          0.43666666746139526,
          0.44388890266418457,
          0.43444445729255676,
          0.43444445729255676,
          0.40833333134651184,
          0.41555556654930115,
          0.41555556654930115,
          0.42944443225860596,
          0.42277777194976807,
          0.4183333218097687,
          0.4699999988079071,
          0.43888887763023376,
          0.41055554151535034,
          0.4277777671813965,
          0.41333332657814026,
          0.4077777862548828,
          0.44055554270744324,
          0.44777777791023254,
          0.46222221851348877,
          0.48722222447395325,
          0.46000000834465027,
          0.4533333480358124,
          0.4483333230018616,
          0.4722222089767456,
          0.4816666543483734,
          0.4466666579246521,
          0.472777783870697,
          0.496111124753952,
          0.47611111402511597,
          0.472777783870697,
          0.46388888359069824,
          0.42500001192092896,
          0.4516666531562805,
          0.4950000047683716,
          0.45500001311302185,
          0.4749999940395355,
          0.4749999940395355,
          0.48500001430511475,
          0.4566666781902313,
          0.4788888990879059,
          0.4950000047683716,
          0.4911110997200012,
          0.4977777898311615,
          0.4588888883590698,
          0.44611111283302307,
          0.4816666543483734,
          0.5127778053283691,
          0.4911110997200012,
          0.507777750492096,
          0.4738888740539551,
          0.47555556893348694,
          0.5166666507720947,
          0.48722222447395325,
          0.5127778053283691,
          0.48055556416511536,
          0.5138888955116272,
          0.47611111402511597,
          0.5249999761581421,
          0.4655555486679077,
          0.5,
          0.46166667342185974,
          0.4983333349227905,
          0.5266666412353516,
          0.5455555319786072,
          0.5266666412353516,
          0.5038889050483704,
          0.5244444608688354,
          0.49388888478279114,
          0.4977777898311615,
          0.5022222399711609,
          0.4516666531562805,
          0.5222222208976746,
          0.5055555701255798,
          0.5377777814865112,
          0.5072222352027893,
          0.5222222208976746,
          0.5472221970558167,
          0.596666693687439,
          0.5,
          0.4655555486679077,
          0.5027777552604675,
          0.5105555653572083,
          0.4866666793823242,
          0.5,
          0.5188888907432556,
          0.4905555546283722,
          0.5122222304344177,
          0.49944445490837097,
          0.5450000166893005,
          0.5338888764381409,
          0.4950000047683716,
          0.5216666460037231,
          0.503333330154419,
          0.527222216129303,
          0.5027777552604675,
          0.5666666626930237,
          0.5311111211776733,
          0.5027777552604675,
          0.5122222304344177,
          0.5288888812065125,
          0.522777795791626,
          0.5088889002799988,
          0.4716666638851166,
          0.4838888943195343,
          0.4955555498600006,
          0.5105555653572083,
          0.5799999833106995,
          0.5400000214576721,
          0.5288888812065125,
          0.5088889002799988,
          0.5183333158493042,
          0.5205555558204651,
          0.5616666674613953,
          0.5149999856948853,
          0.4877777695655823,
          0.5127778053283691,
          0.5138888955116272,
          0.5055555701255798,
          0.5333333611488342,
          0.5950000286102295,
          0.5255555510520935,
          0.5138888955116272,
          0.5211111307144165,
          0.5133333206176758,
          0.6000000238418579,
          0.522777795791626,
          0.5144444704055786,
          0.5322222113609314,
          0.5388888716697693,
          0.6449999809265137,
          0.5677777528762817,
          0.5916666388511658,
          0.5383333563804626,
          0.5338888764381409,
          0.5055555701255798,
          0.5333333611488342,
          0.5827777981758118,
          0.5099999904632568,
          0.5372222065925598,
          0.5177778005599976,
          0.5055555701255798,
          0.523888885974884,
          0.5622222423553467,
          0.5566666722297668,
          0.5538889169692993,
          0.5294444561004639,
          0.522777795791626,
          0.5483333468437195,
          0.5,
          0.523888885974884,
          0.5072222352027893,
          0.5094444155693054,
          0.5066666603088379,
          0.5133333206176758,
          0.5161111354827881,
          0.5633333325386047,
          0.573888897895813,
          0.5222222208976746,
          0.5722222328186035,
          0.48500001430511475,
          0.5105555653572083,
          0.5172222256660461,
          0.5016666650772095,
          0.5688889026641846,
          0.5527777671813965,
          0.5027777552604675,
          0.5294444561004639,
          0.550000011920929,
          0.5005555748939514,
          0.507777750492096,
          0.5338888764381409,
          0.5483333468437195,
          0.551111102104187,
          0.5266666412353516,
          0.5461111068725586,
          0.6227777600288391,
          0.5183333158493042,
          0.5422222018241882,
          0.5438888669013977,
          0.5416666865348816,
          0.5411111116409302,
          0.5111111402511597,
          0.5616666674613953,
          0.573888897895813,
          0.5405555367469788,
          0.5555555820465088,
          0.5672222375869751,
          0.5249999761581421,
          0.5899999737739563,
          0.5666666626930237,
          0.5572222471237183,
          0.5372222065925598,
          0.5611110925674438
         ]
        }
       ],
       "layout": {
        "template": {
         "data": {
          "bar": [
           {
            "error_x": {
             "color": "#2a3f5f"
            },
            "error_y": {
             "color": "#2a3f5f"
            },
            "marker": {
             "line": {
              "color": "#E5ECF6",
              "width": 0.5
             },
             "pattern": {
              "fillmode": "overlay",
              "size": 10,
              "solidity": 0.2
             }
            },
            "type": "bar"
           }
          ],
          "barpolar": [
           {
            "marker": {
             "line": {
              "color": "#E5ECF6",
              "width": 0.5
             },
             "pattern": {
              "fillmode": "overlay",
              "size": 10,
              "solidity": 0.2
             }
            },
            "type": "barpolar"
           }
          ],
          "carpet": [
           {
            "aaxis": {
             "endlinecolor": "#2a3f5f",
             "gridcolor": "white",
             "linecolor": "white",
             "minorgridcolor": "white",
             "startlinecolor": "#2a3f5f"
            },
            "baxis": {
             "endlinecolor": "#2a3f5f",
             "gridcolor": "white",
             "linecolor": "white",
             "minorgridcolor": "white",
             "startlinecolor": "#2a3f5f"
            },
            "type": "carpet"
           }
          ],
          "choropleth": [
           {
            "colorbar": {
             "outlinewidth": 0,
             "ticks": ""
            },
            "type": "choropleth"
           }
          ],
          "contour": [
           {
            "colorbar": {
             "outlinewidth": 0,
             "ticks": ""
            },
            "colorscale": [
             [
              0,
              "#0d0887"
             ],
             [
              0.1111111111111111,
              "#46039f"
             ],
             [
              0.2222222222222222,
              "#7201a8"
             ],
             [
              0.3333333333333333,
              "#9c179e"
             ],
             [
              0.4444444444444444,
              "#bd3786"
             ],
             [
              0.5555555555555556,
              "#d8576b"
             ],
             [
              0.6666666666666666,
              "#ed7953"
             ],
             [
              0.7777777777777778,
              "#fb9f3a"
             ],
             [
              0.8888888888888888,
              "#fdca26"
             ],
             [
              1,
              "#f0f921"
             ]
            ],
            "type": "contour"
           }
          ],
          "contourcarpet": [
           {
            "colorbar": {
             "outlinewidth": 0,
             "ticks": ""
            },
            "type": "contourcarpet"
           }
          ],
          "heatmap": [
           {
            "colorbar": {
             "outlinewidth": 0,
             "ticks": ""
            },
            "colorscale": [
             [
              0,
              "#0d0887"
             ],
             [
              0.1111111111111111,
              "#46039f"
             ],
             [
              0.2222222222222222,
              "#7201a8"
             ],
             [
              0.3333333333333333,
              "#9c179e"
             ],
             [
              0.4444444444444444,
              "#bd3786"
             ],
             [
              0.5555555555555556,
              "#d8576b"
             ],
             [
              0.6666666666666666,
              "#ed7953"
             ],
             [
              0.7777777777777778,
              "#fb9f3a"
             ],
             [
              0.8888888888888888,
              "#fdca26"
             ],
             [
              1,
              "#f0f921"
             ]
            ],
            "type": "heatmap"
           }
          ],
          "heatmapgl": [
           {
            "colorbar": {
             "outlinewidth": 0,
             "ticks": ""
            },
            "colorscale": [
             [
              0,
              "#0d0887"
             ],
             [
              0.1111111111111111,
              "#46039f"
             ],
             [
              0.2222222222222222,
              "#7201a8"
             ],
             [
              0.3333333333333333,
              "#9c179e"
             ],
             [
              0.4444444444444444,
              "#bd3786"
             ],
             [
              0.5555555555555556,
              "#d8576b"
             ],
             [
              0.6666666666666666,
              "#ed7953"
             ],
             [
              0.7777777777777778,
              "#fb9f3a"
             ],
             [
              0.8888888888888888,
              "#fdca26"
             ],
             [
              1,
              "#f0f921"
             ]
            ],
            "type": "heatmapgl"
           }
          ],
          "histogram": [
           {
            "marker": {
             "pattern": {
              "fillmode": "overlay",
              "size": 10,
              "solidity": 0.2
             }
            },
            "type": "histogram"
           }
          ],
          "histogram2d": [
           {
            "colorbar": {
             "outlinewidth": 0,
             "ticks": ""
            },
            "colorscale": [
             [
              0,
              "#0d0887"
             ],
             [
              0.1111111111111111,
              "#46039f"
             ],
             [
              0.2222222222222222,
              "#7201a8"
             ],
             [
              0.3333333333333333,
              "#9c179e"
             ],
             [
              0.4444444444444444,
              "#bd3786"
             ],
             [
              0.5555555555555556,
              "#d8576b"
             ],
             [
              0.6666666666666666,
              "#ed7953"
             ],
             [
              0.7777777777777778,
              "#fb9f3a"
             ],
             [
              0.8888888888888888,
              "#fdca26"
             ],
             [
              1,
              "#f0f921"
             ]
            ],
            "type": "histogram2d"
           }
          ],
          "histogram2dcontour": [
           {
            "colorbar": {
             "outlinewidth": 0,
             "ticks": ""
            },
            "colorscale": [
             [
              0,
              "#0d0887"
             ],
             [
              0.1111111111111111,
              "#46039f"
             ],
             [
              0.2222222222222222,
              "#7201a8"
             ],
             [
              0.3333333333333333,
              "#9c179e"
             ],
             [
              0.4444444444444444,
              "#bd3786"
             ],
             [
              0.5555555555555556,
              "#d8576b"
             ],
             [
              0.6666666666666666,
              "#ed7953"
             ],
             [
              0.7777777777777778,
              "#fb9f3a"
             ],
             [
              0.8888888888888888,
              "#fdca26"
             ],
             [
              1,
              "#f0f921"
             ]
            ],
            "type": "histogram2dcontour"
           }
          ],
          "mesh3d": [
           {
            "colorbar": {
             "outlinewidth": 0,
             "ticks": ""
            },
            "type": "mesh3d"
           }
          ],
          "parcoords": [
           {
            "line": {
             "colorbar": {
              "outlinewidth": 0,
              "ticks": ""
             }
            },
            "type": "parcoords"
           }
          ],
          "pie": [
           {
            "automargin": true,
            "type": "pie"
           }
          ],
          "scatter": [
           {
            "fillpattern": {
             "fillmode": "overlay",
             "size": 10,
             "solidity": 0.2
            },
            "type": "scatter"
           }
          ],
          "scatter3d": [
           {
            "line": {
             "colorbar": {
              "outlinewidth": 0,
              "ticks": ""
             }
            },
            "marker": {
             "colorbar": {
              "outlinewidth": 0,
              "ticks": ""
             }
            },
            "type": "scatter3d"
           }
          ],
          "scattercarpet": [
           {
            "marker": {
             "colorbar": {
              "outlinewidth": 0,
              "ticks": ""
             }
            },
            "type": "scattercarpet"
           }
          ],
          "scattergeo": [
           {
            "marker": {
             "colorbar": {
              "outlinewidth": 0,
              "ticks": ""
             }
            },
            "type": "scattergeo"
           }
          ],
          "scattergl": [
           {
            "marker": {
             "colorbar": {
              "outlinewidth": 0,
              "ticks": ""
             }
            },
            "type": "scattergl"
           }
          ],
          "scattermapbox": [
           {
            "marker": {
             "colorbar": {
              "outlinewidth": 0,
              "ticks": ""
             }
            },
            "type": "scattermapbox"
           }
          ],
          "scatterpolar": [
           {
            "marker": {
             "colorbar": {
              "outlinewidth": 0,
              "ticks": ""
             }
            },
            "type": "scatterpolar"
           }
          ],
          "scatterpolargl": [
           {
            "marker": {
             "colorbar": {
              "outlinewidth": 0,
              "ticks": ""
             }
            },
            "type": "scatterpolargl"
           }
          ],
          "scatterternary": [
           {
            "marker": {
             "colorbar": {
              "outlinewidth": 0,
              "ticks": ""
             }
            },
            "type": "scatterternary"
           }
          ],
          "surface": [
           {
            "colorbar": {
             "outlinewidth": 0,
             "ticks": ""
            },
            "colorscale": [
             [
              0,
              "#0d0887"
             ],
             [
              0.1111111111111111,
              "#46039f"
             ],
             [
              0.2222222222222222,
              "#7201a8"
             ],
             [
              0.3333333333333333,
              "#9c179e"
             ],
             [
              0.4444444444444444,
              "#bd3786"
             ],
             [
              0.5555555555555556,
              "#d8576b"
             ],
             [
              0.6666666666666666,
              "#ed7953"
             ],
             [
              0.7777777777777778,
              "#fb9f3a"
             ],
             [
              0.8888888888888888,
              "#fdca26"
             ],
             [
              1,
              "#f0f921"
             ]
            ],
            "type": "surface"
           }
          ],
          "table": [
           {
            "cells": {
             "fill": {
              "color": "#EBF0F8"
             },
             "line": {
              "color": "white"
             }
            },
            "header": {
             "fill": {
              "color": "#C8D4E3"
             },
             "line": {
              "color": "white"
             }
            },
            "type": "table"
           }
          ]
         },
         "layout": {
          "annotationdefaults": {
           "arrowcolor": "#2a3f5f",
           "arrowhead": 0,
           "arrowwidth": 1
          },
          "autotypenumbers": "strict",
          "coloraxis": {
           "colorbar": {
            "outlinewidth": 0,
            "ticks": ""
           }
          },
          "colorscale": {
           "diverging": [
            [
             0,
             "#8e0152"
            ],
            [
             0.1,
             "#c51b7d"
            ],
            [
             0.2,
             "#de77ae"
            ],
            [
             0.3,
             "#f1b6da"
            ],
            [
             0.4,
             "#fde0ef"
            ],
            [
             0.5,
             "#f7f7f7"
            ],
            [
             0.6,
             "#e6f5d0"
            ],
            [
             0.7,
             "#b8e186"
            ],
            [
             0.8,
             "#7fbc41"
            ],
            [
             0.9,
             "#4d9221"
            ],
            [
             1,
             "#276419"
            ]
           ],
           "sequential": [
            [
             0,
             "#0d0887"
            ],
            [
             0.1111111111111111,
             "#46039f"
            ],
            [
             0.2222222222222222,
             "#7201a8"
            ],
            [
             0.3333333333333333,
             "#9c179e"
            ],
            [
             0.4444444444444444,
             "#bd3786"
            ],
            [
             0.5555555555555556,
             "#d8576b"
            ],
            [
             0.6666666666666666,
             "#ed7953"
            ],
            [
             0.7777777777777778,
             "#fb9f3a"
            ],
            [
             0.8888888888888888,
             "#fdca26"
            ],
            [
             1,
             "#f0f921"
            ]
           ],
           "sequentialminus": [
            [
             0,
             "#0d0887"
            ],
            [
             0.1111111111111111,
             "#46039f"
            ],
            [
             0.2222222222222222,
             "#7201a8"
            ],
            [
             0.3333333333333333,
             "#9c179e"
            ],
            [
             0.4444444444444444,
             "#bd3786"
            ],
            [
             0.5555555555555556,
             "#d8576b"
            ],
            [
             0.6666666666666666,
             "#ed7953"
            ],
            [
             0.7777777777777778,
             "#fb9f3a"
            ],
            [
             0.8888888888888888,
             "#fdca26"
            ],
            [
             1,
             "#f0f921"
            ]
           ]
          },
          "colorway": [
           "#636efa",
           "#EF553B",
           "#00cc96",
           "#ab63fa",
           "#FFA15A",
           "#19d3f3",
           "#FF6692",
           "#B6E880",
           "#FF97FF",
           "#FECB52"
          ],
          "font": {
           "color": "#2a3f5f"
          },
          "geo": {
           "bgcolor": "white",
           "lakecolor": "white",
           "landcolor": "#E5ECF6",
           "showlakes": true,
           "showland": true,
           "subunitcolor": "white"
          },
          "hoverlabel": {
           "align": "left"
          },
          "hovermode": "closest",
          "mapbox": {
           "style": "light"
          },
          "paper_bgcolor": "white",
          "plot_bgcolor": "#E5ECF6",
          "polar": {
           "angularaxis": {
            "gridcolor": "white",
            "linecolor": "white",
            "ticks": ""
           },
           "bgcolor": "#E5ECF6",
           "radialaxis": {
            "gridcolor": "white",
            "linecolor": "white",
            "ticks": ""
           }
          },
          "scene": {
           "xaxis": {
            "backgroundcolor": "#E5ECF6",
            "gridcolor": "white",
            "gridwidth": 2,
            "linecolor": "white",
            "showbackground": true,
            "ticks": "",
            "zerolinecolor": "white"
           },
           "yaxis": {
            "backgroundcolor": "#E5ECF6",
            "gridcolor": "white",
            "gridwidth": 2,
            "linecolor": "white",
            "showbackground": true,
            "ticks": "",
            "zerolinecolor": "white"
           },
           "zaxis": {
            "backgroundcolor": "#E5ECF6",
            "gridcolor": "white",
            "gridwidth": 2,
            "linecolor": "white",
            "showbackground": true,
            "ticks": "",
            "zerolinecolor": "white"
           }
          },
          "shapedefaults": {
           "line": {
            "color": "#2a3f5f"
           }
          },
          "ternary": {
           "aaxis": {
            "gridcolor": "white",
            "linecolor": "white",
            "ticks": ""
           },
           "baxis": {
            "gridcolor": "white",
            "linecolor": "white",
            "ticks": ""
           },
           "bgcolor": "#E5ECF6",
           "caxis": {
            "gridcolor": "white",
            "linecolor": "white",
            "ticks": ""
           }
          },
          "title": {
           "x": 0.05
          },
          "xaxis": {
           "automargin": true,
           "gridcolor": "white",
           "linecolor": "white",
           "ticks": "",
           "title": {
            "standoff": 15
           },
           "zerolinecolor": "white",
           "zerolinewidth": 2
          },
          "yaxis": {
           "automargin": true,
           "gridcolor": "white",
           "linecolor": "white",
           "ticks": "",
           "title": {
            "standoff": 15
           },
           "zerolinecolor": "white",
           "zerolinewidth": 2
          }
         }
        },
        "title": {
         "text": "Model accuracy"
        },
        "xaxis": {
         "title": {
          "text": "Epoch"
         }
        },
        "yaxis": {
         "title": {
          "text": "Accuracy"
         }
        }
       }
      }
     },
     "metadata": {},
     "output_type": "display_data"
    }
   ],
   "source": [
    "# Plot training & validation accuracy values\n",
    "fig = go.Figure()\n",
    "fig.add_trace(go.Scatter(\n",
    "    y=history.history['accuracy'],\n",
    "    mode='lines+markers',\n",
    "    name='Train'\n",
    "))\n",
    "fig.add_trace(go.Scatter(\n",
    "    y=history.history['val_accuracy'],\n",
    "    mode='lines+markers',\n",
    "    name='Validation'\n",
    "))\n",
    "fig.update_layout(\n",
    "    title='Model accuracy',\n",
    "    xaxis_title='Epoch',\n",
    "    yaxis_title='Accuracy'\n",
    ")\n",
    "fig.show()"
   ]
  },
  {
   "cell_type": "code",
   "execution_count": 78,
   "metadata": {},
   "outputs": [
    {
     "data": {
      "application/vnd.plotly.v1+json": {
       "config": {
        "plotlyServerURL": "https://plot.ly"
       },
       "data": [
        {
         "mode": "lines+markers",
         "name": "Train",
         "type": "scatter",
         "y": [
          0.14222516119480133,
          0.13066478073596954,
          0.12858743965625763,
          0.126134991645813,
          0.12872099876403809,
          0.12356141209602356,
          0.12144416570663452,
          0.12738829851150513,
          0.11938464641571045,
          0.12167386710643768,
          0.12418249249458313,
          0.1227763295173645,
          0.12106556445360184,
          0.12299845367670059,
          0.11611353605985641,
          0.1188335046172142,
          0.11821041256189346,
          0.11825151741504669,
          0.11758571118116379,
          0.11360429227352142,
          0.11623025685548782,
          0.11284250020980835,
          0.1110277846455574,
          0.10591357946395874,
          0.10818925499916077,
          0.10451660305261612,
          0.1093936562538147,
          0.10948459804058075,
          0.11515207588672638,
          0.11535662412643433,
          0.10683116316795349,
          0.10778778791427612,
          0.10286270081996918,
          0.10307545214891434,
          0.10144868493080139,
          0.10126690566539764,
          0.10150837898254395,
          0.09994475543498993,
          0.10394741594791412,
          0.09779561311006546,
          0.09286664426326752,
          0.09359198808670044,
          0.09095467627048492,
          0.08892079442739487,
          0.0950947254896164,
          0.09278932213783264,
          0.09183773398399353,
          0.08789514005184174,
          0.0869864672422409,
          0.09059572964906693,
          0.08860898017883301,
          0.0905381366610527,
          0.08284080773591995,
          0.0849546566605568,
          0.08779870718717575,
          0.08315125852823257,
          0.08724852651357651,
          0.07734166830778122,
          0.08264216035604477,
          0.07992830127477646,
          0.0862623006105423,
          0.07911444455385208,
          0.08058518916368484,
          0.08316521346569061,
          0.08337186276912689,
          0.0766705647110939,
          0.07608612626791,
          0.0755353718996048,
          0.07441768050193787,
          0.07307795435190201,
          0.06771012395620346,
          0.0795457735657692,
          0.06532996147871017,
          0.0675356462597847,
          0.06554054468870163,
          0.07228721678256989,
          0.0793740302324295,
          0.07104229927062988,
          0.06978987902402878,
          0.07315654307603836,
          0.072792187333107,
          0.06930480152368546,
          0.06882908940315247,
          0.06608155369758606,
          0.06519787758588791,
          0.06820017844438553,
          0.06919447332620621,
          0.06545674055814743,
          0.06122497841715813,
          0.060748983174562454,
          0.06405435502529144,
          0.06332287937402725,
          0.06289815157651901,
          0.06435847282409668,
          0.0684102326631546,
          0.06734035164117813,
          0.05602117255330086,
          0.06130984425544739,
          0.05952538549900055,
          0.05833880975842476,
          0.061791665852069855,
          0.06041482836008072,
          0.05580521374940872,
          0.05710246041417122,
          0.048071831464767456,
          0.061303313821554184,
          0.054895054548978806,
          0.05749068409204483,
          0.051363445818424225,
          0.05575849860906601,
          0.05812278017401695,
          0.056540317833423615,
          0.05061545595526695,
          0.05498393625020981,
          0.050942614674568176,
          0.04808488115668297,
          0.04937337711453438,
          0.05179941654205322,
          0.04715409502387047,
          0.05068498104810715,
          0.04905300587415695,
          0.04872409999370575,
          0.0537310391664505,
          0.052319228649139404,
          0.04723431169986725,
          0.057977430522441864,
          0.04878583177924156,
          0.045599695295095444,
          0.05055217072367668,
          0.049925222992897034,
          0.05105539411306381,
          0.049682360142469406,
          0.0472949743270874,
          0.050429392606019974,
          0.045372337102890015,
          0.04895835742354393,
          0.04326927661895752,
          0.04661610350012779,
          0.041786372661590576,
          0.04393433779478073,
          0.05112432315945625,
          0.042714741080999374,
          0.041452642530202866,
          0.04966049641370773,
          0.04122045263648033,
          0.03904806077480316,
          0.04399809613823891,
          0.043283432722091675,
          0.04283391684293747,
          0.03931558132171631,
          0.04089545086026192,
          0.039690952748060226,
          0.04162266105413437,
          0.0450257882475853,
          0.04232661426067352,
          0.03821182996034622,
          0.04264022409915924,
          0.04066263511776924,
          0.03990134224295616,
          0.042250681668519974,
          0.03882265463471413,
          0.040870606899261475,
          0.04136458411812782,
          0.04723511263728142,
          0.04302635043859482,
          0.03964494913816452,
          0.042169343680143356,
          0.04041191190481186,
          0.03305848315358162,
          0.039061594754457474,
          0.04193277657032013,
          0.03322044759988785,
          0.04023011773824692,
          0.036341920495033264,
          0.0366474874317646,
          0.036525908857584,
          0.042955558747053146,
          0.03824883699417114,
          0.037123650312423706,
          0.03664971515536308,
          0.03319612145423889,
          0.031418539583683014,
          0.03779107332229614,
          0.03412507101893425,
          0.04019506275653839,
          0.039387475699186325,
          0.037676870822906494,
          0.0331537090241909,
          0.02810978703200817,
          0.03567515313625336,
          0.03396205976605415,
          0.03475784882903099,
          0.03475772961974144,
          0.0305514894425869,
          0.035021740943193436,
          0.03690382093191147,
          0.031256504356861115,
          0.034617628902196884,
          0.03711837902665138,
          0.031869202852249146
         ]
        },
        {
         "mode": "lines+markers",
         "name": "Validation",
         "type": "scatter",
         "y": [
          331.41058349609375,
          347.18145751953125,
          334.90582275390625,
          382.5135498046875,
          315.2820739746094,
          354.6004943847656,
          379.13330078125,
          384.187744140625,
          383.9646911621094,
          378.0892333984375,
          399.3243408203125,
          451.69415283203125,
          429.3433532714844,
          426.781005859375,
          407.44842529296875,
          419.65655517578125,
          434.9863586425781,
          346.7268371582031,
          382.3691711425781,
          435.4991455078125,
          415.0353088378906,
          461.5663146972656,
          466.3475646972656,
          419.3871154785156,
          395.3918762207031,
          384.59033203125,
          358.9685974121094,
          385.93377685546875,
          403.4198913574219,
          410.4713439941406,
          398.7240905761719,
          391.3637390136719,
          435.4043884277344,
          407.93597412109375,
          360.6260070800781,
          406.7413330078125,
          402.9984436035156,
          424.4552001953125,
          478.8768310546875,
          457.576904296875,
          389.20416259765625,
          469.28021240234375,
          443.7756042480469,
          436.7278747558594,
          398.55340576171875,
          475.32025146484375,
          410.76190185546875,
          402.4123840332031,
          417.3339538574219,
          416.0069885253906,
          494.23846435546875,
          555.0466918945312,
          447.2484436035156,
          378.4703063964844,
          431.37750244140625,
          391.7115173339844,
          503.3725891113281,
          510.1146240234375,
          403.1781005859375,
          459.4903869628906,
          410.2099609375,
          481.87518310546875,
          403.98291015625,
          474.92462158203125,
          385.6850891113281,
          509.4266357421875,
          461.6154479980469,
          524.4061889648438,
          474.9526672363281,
          431.14752197265625,
          384.7671813964844,
          413.96856689453125,
          462.6625061035156,
          428.0357666015625,
          495.6700439453125,
          482.99041748046875,
          485.6336669921875,
          611.1485595703125,
          436.23297119140625,
          469.6111755371094,
          443.66326904296875,
          459.6290588378906,
          448.1663818359375,
          414.0555114746094,
          338.82373046875,
          532.5809326171875,
          611.934326171875,
          506.02587890625,
          490.2234802246094,
          547.8948974609375,
          500.4550476074219,
          502.37445068359375,
          549.6549072265625,
          512.0934448242188,
          521.1455688476562,
          428.6945495605469,
          454.00469970703125,
          539.9509887695312,
          520.320556640625,
          533.5114135742188,
          501.7807312011719,
          562.4198608398438,
          437.5101318359375,
          509.22735595703125,
          546.3471069335938,
          538.825927734375,
          509.1806335449219,
          558.291748046875,
          580.253173828125,
          642.9385986328125,
          604.2300415039062,
          588.556884765625,
          589.7151489257812,
          425.4597473144531,
          501.0712585449219,
          530.9271850585938,
          575.0239868164062,
          552.6234130859375,
          552.8499145507812,
          468.16229248046875,
          587.4344482421875,
          649.9970703125,
          602.5936889648438,
          565.9108276367188,
          621.7899780273438,
          525.6481323242188,
          411.0099792480469,
          581.4727172851562,
          629.7939453125,
          603.8373413085938,
          639.6437377929688,
          450.51666259765625,
          607.443115234375,
          613.289306640625,
          604.6090698242188,
          558.5772094726562,
          383.2762756347656,
          532.67724609375,
          480.7596130371094,
          567.2571411132812,
          577.11962890625,
          671.1752319335938,
          604.283447265625,
          511.4433898925781,
          678.2542114257812,
          619.8030395507812,
          650.8890991210938,
          673.0821533203125,
          631.06689453125,
          563.2706298828125,
          570.0633544921875,
          579.88525390625,
          643.99755859375,
          686.5543212890625,
          592.7846069335938,
          785.9373779296875,
          637.1369018554688,
          757.33984375,
          751.0311279296875,
          723.641845703125,
          718.7389526367188,
          731.0310668945312,
          618.0526123046875,
          563.1648559570312,
          713.2308959960938,
          606.453125,
          821.9351806640625,
          766.7611694335938,
          757.6405639648438,
          775.9798583984375,
          624.22998046875,
          679.1021118164062,
          759.1539306640625,
          655.4884033203125,
          671.8800659179688,
          823.5237426757812,
          786.8406372070312,
          699.847900390625,
          647.8795166015625,
          667.3259887695312,
          760.1409912109375,
          712.680908203125,
          531.1880493164062,
          828.8768310546875,
          702.1351928710938,
          684.2288818359375,
          674.1452026367188,
          701.8485717773438,
          801.9598388671875,
          627.2849731445312,
          615.198486328125,
          716.6950073242188,
          705.0767211914062,
          670.7958984375,
          821.0015258789062,
          603.4630126953125,
          663.96630859375,
          696.6934814453125,
          791.1022338867188,
          687.1036376953125
         ]
        }
       ],
       "layout": {
        "template": {
         "data": {
          "bar": [
           {
            "error_x": {
             "color": "#2a3f5f"
            },
            "error_y": {
             "color": "#2a3f5f"
            },
            "marker": {
             "line": {
              "color": "#E5ECF6",
              "width": 0.5
             },
             "pattern": {
              "fillmode": "overlay",
              "size": 10,
              "solidity": 0.2
             }
            },
            "type": "bar"
           }
          ],
          "barpolar": [
           {
            "marker": {
             "line": {
              "color": "#E5ECF6",
              "width": 0.5
             },
             "pattern": {
              "fillmode": "overlay",
              "size": 10,
              "solidity": 0.2
             }
            },
            "type": "barpolar"
           }
          ],
          "carpet": [
           {
            "aaxis": {
             "endlinecolor": "#2a3f5f",
             "gridcolor": "white",
             "linecolor": "white",
             "minorgridcolor": "white",
             "startlinecolor": "#2a3f5f"
            },
            "baxis": {
             "endlinecolor": "#2a3f5f",
             "gridcolor": "white",
             "linecolor": "white",
             "minorgridcolor": "white",
             "startlinecolor": "#2a3f5f"
            },
            "type": "carpet"
           }
          ],
          "choropleth": [
           {
            "colorbar": {
             "outlinewidth": 0,
             "ticks": ""
            },
            "type": "choropleth"
           }
          ],
          "contour": [
           {
            "colorbar": {
             "outlinewidth": 0,
             "ticks": ""
            },
            "colorscale": [
             [
              0,
              "#0d0887"
             ],
             [
              0.1111111111111111,
              "#46039f"
             ],
             [
              0.2222222222222222,
              "#7201a8"
             ],
             [
              0.3333333333333333,
              "#9c179e"
             ],
             [
              0.4444444444444444,
              "#bd3786"
             ],
             [
              0.5555555555555556,
              "#d8576b"
             ],
             [
              0.6666666666666666,
              "#ed7953"
             ],
             [
              0.7777777777777778,
              "#fb9f3a"
             ],
             [
              0.8888888888888888,
              "#fdca26"
             ],
             [
              1,
              "#f0f921"
             ]
            ],
            "type": "contour"
           }
          ],
          "contourcarpet": [
           {
            "colorbar": {
             "outlinewidth": 0,
             "ticks": ""
            },
            "type": "contourcarpet"
           }
          ],
          "heatmap": [
           {
            "colorbar": {
             "outlinewidth": 0,
             "ticks": ""
            },
            "colorscale": [
             [
              0,
              "#0d0887"
             ],
             [
              0.1111111111111111,
              "#46039f"
             ],
             [
              0.2222222222222222,
              "#7201a8"
             ],
             [
              0.3333333333333333,
              "#9c179e"
             ],
             [
              0.4444444444444444,
              "#bd3786"
             ],
             [
              0.5555555555555556,
              "#d8576b"
             ],
             [
              0.6666666666666666,
              "#ed7953"
             ],
             [
              0.7777777777777778,
              "#fb9f3a"
             ],
             [
              0.8888888888888888,
              "#fdca26"
             ],
             [
              1,
              "#f0f921"
             ]
            ],
            "type": "heatmap"
           }
          ],
          "heatmapgl": [
           {
            "colorbar": {
             "outlinewidth": 0,
             "ticks": ""
            },
            "colorscale": [
             [
              0,
              "#0d0887"
             ],
             [
              0.1111111111111111,
              "#46039f"
             ],
             [
              0.2222222222222222,
              "#7201a8"
             ],
             [
              0.3333333333333333,
              "#9c179e"
             ],
             [
              0.4444444444444444,
              "#bd3786"
             ],
             [
              0.5555555555555556,
              "#d8576b"
             ],
             [
              0.6666666666666666,
              "#ed7953"
             ],
             [
              0.7777777777777778,
              "#fb9f3a"
             ],
             [
              0.8888888888888888,
              "#fdca26"
             ],
             [
              1,
              "#f0f921"
             ]
            ],
            "type": "heatmapgl"
           }
          ],
          "histogram": [
           {
            "marker": {
             "pattern": {
              "fillmode": "overlay",
              "size": 10,
              "solidity": 0.2
             }
            },
            "type": "histogram"
           }
          ],
          "histogram2d": [
           {
            "colorbar": {
             "outlinewidth": 0,
             "ticks": ""
            },
            "colorscale": [
             [
              0,
              "#0d0887"
             ],
             [
              0.1111111111111111,
              "#46039f"
             ],
             [
              0.2222222222222222,
              "#7201a8"
             ],
             [
              0.3333333333333333,
              "#9c179e"
             ],
             [
              0.4444444444444444,
              "#bd3786"
             ],
             [
              0.5555555555555556,
              "#d8576b"
             ],
             [
              0.6666666666666666,
              "#ed7953"
             ],
             [
              0.7777777777777778,
              "#fb9f3a"
             ],
             [
              0.8888888888888888,
              "#fdca26"
             ],
             [
              1,
              "#f0f921"
             ]
            ],
            "type": "histogram2d"
           }
          ],
          "histogram2dcontour": [
           {
            "colorbar": {
             "outlinewidth": 0,
             "ticks": ""
            },
            "colorscale": [
             [
              0,
              "#0d0887"
             ],
             [
              0.1111111111111111,
              "#46039f"
             ],
             [
              0.2222222222222222,
              "#7201a8"
             ],
             [
              0.3333333333333333,
              "#9c179e"
             ],
             [
              0.4444444444444444,
              "#bd3786"
             ],
             [
              0.5555555555555556,
              "#d8576b"
             ],
             [
              0.6666666666666666,
              "#ed7953"
             ],
             [
              0.7777777777777778,
              "#fb9f3a"
             ],
             [
              0.8888888888888888,
              "#fdca26"
             ],
             [
              1,
              "#f0f921"
             ]
            ],
            "type": "histogram2dcontour"
           }
          ],
          "mesh3d": [
           {
            "colorbar": {
             "outlinewidth": 0,
             "ticks": ""
            },
            "type": "mesh3d"
           }
          ],
          "parcoords": [
           {
            "line": {
             "colorbar": {
              "outlinewidth": 0,
              "ticks": ""
             }
            },
            "type": "parcoords"
           }
          ],
          "pie": [
           {
            "automargin": true,
            "type": "pie"
           }
          ],
          "scatter": [
           {
            "fillpattern": {
             "fillmode": "overlay",
             "size": 10,
             "solidity": 0.2
            },
            "type": "scatter"
           }
          ],
          "scatter3d": [
           {
            "line": {
             "colorbar": {
              "outlinewidth": 0,
              "ticks": ""
             }
            },
            "marker": {
             "colorbar": {
              "outlinewidth": 0,
              "ticks": ""
             }
            },
            "type": "scatter3d"
           }
          ],
          "scattercarpet": [
           {
            "marker": {
             "colorbar": {
              "outlinewidth": 0,
              "ticks": ""
             }
            },
            "type": "scattercarpet"
           }
          ],
          "scattergeo": [
           {
            "marker": {
             "colorbar": {
              "outlinewidth": 0,
              "ticks": ""
             }
            },
            "type": "scattergeo"
           }
          ],
          "scattergl": [
           {
            "marker": {
             "colorbar": {
              "outlinewidth": 0,
              "ticks": ""
             }
            },
            "type": "scattergl"
           }
          ],
          "scattermapbox": [
           {
            "marker": {
             "colorbar": {
              "outlinewidth": 0,
              "ticks": ""
             }
            },
            "type": "scattermapbox"
           }
          ],
          "scatterpolar": [
           {
            "marker": {
             "colorbar": {
              "outlinewidth": 0,
              "ticks": ""
             }
            },
            "type": "scatterpolar"
           }
          ],
          "scatterpolargl": [
           {
            "marker": {
             "colorbar": {
              "outlinewidth": 0,
              "ticks": ""
             }
            },
            "type": "scatterpolargl"
           }
          ],
          "scatterternary": [
           {
            "marker": {
             "colorbar": {
              "outlinewidth": 0,
              "ticks": ""
             }
            },
            "type": "scatterternary"
           }
          ],
          "surface": [
           {
            "colorbar": {
             "outlinewidth": 0,
             "ticks": ""
            },
            "colorscale": [
             [
              0,
              "#0d0887"
             ],
             [
              0.1111111111111111,
              "#46039f"
             ],
             [
              0.2222222222222222,
              "#7201a8"
             ],
             [
              0.3333333333333333,
              "#9c179e"
             ],
             [
              0.4444444444444444,
              "#bd3786"
             ],
             [
              0.5555555555555556,
              "#d8576b"
             ],
             [
              0.6666666666666666,
              "#ed7953"
             ],
             [
              0.7777777777777778,
              "#fb9f3a"
             ],
             [
              0.8888888888888888,
              "#fdca26"
             ],
             [
              1,
              "#f0f921"
             ]
            ],
            "type": "surface"
           }
          ],
          "table": [
           {
            "cells": {
             "fill": {
              "color": "#EBF0F8"
             },
             "line": {
              "color": "white"
             }
            },
            "header": {
             "fill": {
              "color": "#C8D4E3"
             },
             "line": {
              "color": "white"
             }
            },
            "type": "table"
           }
          ]
         },
         "layout": {
          "annotationdefaults": {
           "arrowcolor": "#2a3f5f",
           "arrowhead": 0,
           "arrowwidth": 1
          },
          "autotypenumbers": "strict",
          "coloraxis": {
           "colorbar": {
            "outlinewidth": 0,
            "ticks": ""
           }
          },
          "colorscale": {
           "diverging": [
            [
             0,
             "#8e0152"
            ],
            [
             0.1,
             "#c51b7d"
            ],
            [
             0.2,
             "#de77ae"
            ],
            [
             0.3,
             "#f1b6da"
            ],
            [
             0.4,
             "#fde0ef"
            ],
            [
             0.5,
             "#f7f7f7"
            ],
            [
             0.6,
             "#e6f5d0"
            ],
            [
             0.7,
             "#b8e186"
            ],
            [
             0.8,
             "#7fbc41"
            ],
            [
             0.9,
             "#4d9221"
            ],
            [
             1,
             "#276419"
            ]
           ],
           "sequential": [
            [
             0,
             "#0d0887"
            ],
            [
             0.1111111111111111,
             "#46039f"
            ],
            [
             0.2222222222222222,
             "#7201a8"
            ],
            [
             0.3333333333333333,
             "#9c179e"
            ],
            [
             0.4444444444444444,
             "#bd3786"
            ],
            [
             0.5555555555555556,
             "#d8576b"
            ],
            [
             0.6666666666666666,
             "#ed7953"
            ],
            [
             0.7777777777777778,
             "#fb9f3a"
            ],
            [
             0.8888888888888888,
             "#fdca26"
            ],
            [
             1,
             "#f0f921"
            ]
           ],
           "sequentialminus": [
            [
             0,
             "#0d0887"
            ],
            [
             0.1111111111111111,
             "#46039f"
            ],
            [
             0.2222222222222222,
             "#7201a8"
            ],
            [
             0.3333333333333333,
             "#9c179e"
            ],
            [
             0.4444444444444444,
             "#bd3786"
            ],
            [
             0.5555555555555556,
             "#d8576b"
            ],
            [
             0.6666666666666666,
             "#ed7953"
            ],
            [
             0.7777777777777778,
             "#fb9f3a"
            ],
            [
             0.8888888888888888,
             "#fdca26"
            ],
            [
             1,
             "#f0f921"
            ]
           ]
          },
          "colorway": [
           "#636efa",
           "#EF553B",
           "#00cc96",
           "#ab63fa",
           "#FFA15A",
           "#19d3f3",
           "#FF6692",
           "#B6E880",
           "#FF97FF",
           "#FECB52"
          ],
          "font": {
           "color": "#2a3f5f"
          },
          "geo": {
           "bgcolor": "white",
           "lakecolor": "white",
           "landcolor": "#E5ECF6",
           "showlakes": true,
           "showland": true,
           "subunitcolor": "white"
          },
          "hoverlabel": {
           "align": "left"
          },
          "hovermode": "closest",
          "mapbox": {
           "style": "light"
          },
          "paper_bgcolor": "white",
          "plot_bgcolor": "#E5ECF6",
          "polar": {
           "angularaxis": {
            "gridcolor": "white",
            "linecolor": "white",
            "ticks": ""
           },
           "bgcolor": "#E5ECF6",
           "radialaxis": {
            "gridcolor": "white",
            "linecolor": "white",
            "ticks": ""
           }
          },
          "scene": {
           "xaxis": {
            "backgroundcolor": "#E5ECF6",
            "gridcolor": "white",
            "gridwidth": 2,
            "linecolor": "white",
            "showbackground": true,
            "ticks": "",
            "zerolinecolor": "white"
           },
           "yaxis": {
            "backgroundcolor": "#E5ECF6",
            "gridcolor": "white",
            "gridwidth": 2,
            "linecolor": "white",
            "showbackground": true,
            "ticks": "",
            "zerolinecolor": "white"
           },
           "zaxis": {
            "backgroundcolor": "#E5ECF6",
            "gridcolor": "white",
            "gridwidth": 2,
            "linecolor": "white",
            "showbackground": true,
            "ticks": "",
            "zerolinecolor": "white"
           }
          },
          "shapedefaults": {
           "line": {
            "color": "#2a3f5f"
           }
          },
          "ternary": {
           "aaxis": {
            "gridcolor": "white",
            "linecolor": "white",
            "ticks": ""
           },
           "baxis": {
            "gridcolor": "white",
            "linecolor": "white",
            "ticks": ""
           },
           "bgcolor": "#E5ECF6",
           "caxis": {
            "gridcolor": "white",
            "linecolor": "white",
            "ticks": ""
           }
          },
          "title": {
           "x": 0.05
          },
          "xaxis": {
           "automargin": true,
           "gridcolor": "white",
           "linecolor": "white",
           "ticks": "",
           "title": {
            "standoff": 15
           },
           "zerolinecolor": "white",
           "zerolinewidth": 2
          },
          "yaxis": {
           "automargin": true,
           "gridcolor": "white",
           "linecolor": "white",
           "ticks": "",
           "title": {
            "standoff": 15
           },
           "zerolinecolor": "white",
           "zerolinewidth": 2
          }
         }
        },
        "title": {
         "text": "Model loss"
        },
        "xaxis": {
         "title": {
          "text": "Epoch"
         }
        },
        "yaxis": {
         "title": {
          "text": "Loss"
         }
        }
       }
      }
     },
     "metadata": {},
     "output_type": "display_data"
    }
   ],
   "source": [
    "# Plot training & validation loss values\n",
    "fig = go.Figure()\n",
    "fig.add_trace(go.Scatter(\n",
    "    y=history.history['loss'],\n",
    "    mode='lines+markers',\n",
    "    name='Train'\n",
    "))\n",
    "fig.add_trace(go.Scatter(\n",
    "    y=history.history['val_loss'],\n",
    "    mode='lines+markers',\n",
    "    name='Validation'\n",
    "))\n",
    "fig.update_layout(\n",
    "    title='Model loss',\n",
    "    xaxis_title='Epoch',\n",
    "    yaxis_title='Loss'\n",
    ")\n",
    "fig.show()"
   ]
  },
  {
   "cell_type": "code",
   "execution_count": 79,
   "metadata": {},
   "outputs": [
    {
     "name": "stdout",
     "output_type": "stream",
     "text": [
      "94/94 [==============================] - 0s 2ms/step - loss: 0.2973 - accuracy: 0.9493\n",
      "Test loss: 0.29728463292121887\n",
      "Test accuracy: 0.9493333101272583\n"
     ]
    }
   ],
   "source": [
    "loss, accuracy = model.evaluate(x_test, y_test)\n",
    "print('Test loss:', loss)\n",
    "print('Test accuracy:', accuracy)"
   ]
  },
  {
   "cell_type": "code",
   "execution_count": 80,
   "metadata": {},
   "outputs": [
    {
     "name": "stdout",
     "output_type": "stream",
     "text": [
      "94/94 [==============================] - 0s 2ms/step\n",
      "[[9.9999994e-01 5.7211875e-27 6.1047343e-34 ... 1.0911522e-23\n",
      "  0.0000000e+00 4.0437798e-35]\n",
      " [9.9999994e-01 9.3334247e-27 4.9423103e-35 ... 3.2016690e-32\n",
      "  6.7660075e-37 0.0000000e+00]\n",
      " [1.1364042e-05 6.9826031e-20 1.0754397e-33 ... 1.4561449e-17\n",
      "  1.4368508e-22 4.3613999e-16]\n",
      " ...\n",
      " [1.4605266e-12 9.9999982e-01 6.8256412e-08 ... 4.6472791e-14\n",
      "  1.9558322e-12 3.9556382e-13]\n",
      " [1.7055397e-12 9.9999982e-01 1.2232024e-07 ... 5.0048365e-15\n",
      "  1.4290084e-12 6.6479468e-11]\n",
      " [1.8053115e-10 9.9999994e-01 2.4979949e-09 ... 1.7965017e-09\n",
      "  1.6622156e-16 3.1166846e-12]]\n",
      "[[1. 0. 0. ... 0. 0. 0.]\n",
      " [1. 0. 0. ... 0. 0. 0.]\n",
      " [1. 0. 0. ... 0. 0. 0.]\n",
      " ...\n",
      " [0. 1. 0. ... 0. 0. 0.]\n",
      " [0. 1. 0. ... 0. 0. 0.]\n",
      " [0. 1. 0. ... 0. 0. 0.]]\n"
     ]
    }
   ],
   "source": [
    "predictions = model.predict(x_test)\n",
    "print(predictions)\n",
    "print(y_test)"
   ]
  },
  {
   "cell_type": "code",
   "execution_count": null,
   "metadata": {},
   "outputs": [],
   "source": []
  }
 ],
 "metadata": {
  "kernelspec": {
   "display_name": "phdr",
   "language": "python",
   "name": "python3"
  },
  "language_info": {
   "codemirror_mode": {
    "name": "ipython",
    "version": 3
   },
   "file_extension": ".py",
   "mimetype": "text/x-python",
   "name": "python",
   "nbconvert_exporter": "python",
   "pygments_lexer": "ipython3",
   "version": "3.10.8"
  },
  "orig_nbformat": 4,
  "vscode": {
   "interpreter": {
    "hash": "1bcaf38e5d8e105ae8b6898fd527f806b8ee8842a830ffb242e365996a35db64"
   }
  }
 },
 "nbformat": 4,
 "nbformat_minor": 2
}
