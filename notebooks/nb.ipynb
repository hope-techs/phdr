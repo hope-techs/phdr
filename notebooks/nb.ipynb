{
  "nbformat": 4,
  "nbformat_minor": 0,
  "metadata": {
    "colab": {
      "provenance": [],
      "authorship_tag": "ABX9TyNmkOd+4wVHC8Tpt0D2/UiI",
      "include_colab_link": true
    },
    "kernelspec": {
      "name": "python3",
      "display_name": "Python 3"
    },
    "language_info": {
      "name": "python"
    }
  },
  "cells": [
    {
      "cell_type": "markdown",
      "metadata": {
        "id": "view-in-github",
        "colab_type": "text"
      },
      "source": [
        "<a href=\"https://colab.research.google.com/github/smb-h/phdr/blob/main/notebooks/nb.ipynb\" target=\"_parent\"><img src=\"https://colab.research.google.com/assets/colab-badge.svg\" alt=\"Open In Colab\"/></a>"
      ]
    },
    {
      "cell_type": "code",
      "execution_count": 1,
      "metadata": {
        "id": "LaeVVaQiR4uE"
      },
      "outputs": [],
      "source": [
        "# *-* coding: utf-8 *-*\n",
        "\n",
        "# Hoda Dataset Reader\n",
        "# Python code for reading Hoda farsi digit dataset.\n",
        "\n",
        "# Hoda Farsi Digit Dataset:\n",
        "# http://farsiocr.ir/\n",
        "# http://farsiocr.ir/مجموعه-داده/مجموعه-ارقام-دستنویس-هدی\n",
        "# http://dadegan.ir/catalog/hoda\n",
        "\n",
        "# Repository:\n",
        "# https://github.com/amir-saniyan/HodaDatasetReader\n",
        "\n",
        "import struct\n",
        "import numpy as np\n",
        "import cv2\n",
        "\n",
        "\n",
        "def __convert_to_one_hot(vector, num_classes):\n",
        "    result = np.zeros(shape=[len(vector), num_classes])\n",
        "    result[np.arange(len(vector)), vector] = 1\n",
        "    return result\n",
        "\n",
        "\n",
        "def __resize_image(src_image, dst_image_height, dst_image_width):\n",
        "    src_image_height = src_image.shape[0]\n",
        "    src_image_width = src_image.shape[1]\n",
        "\n",
        "    if src_image_height > dst_image_height or src_image_width > dst_image_width:\n",
        "        height_scale = dst_image_height / src_image_height\n",
        "        width_scale = dst_image_width / src_image_width\n",
        "        scale = min(height_scale, width_scale)\n",
        "        img = cv2.resize(src=src_image, dsize=(0, 0), fx=scale, fy=scale, interpolation=cv2.INTER_CUBIC)\n",
        "    else:\n",
        "        img = src_image\n",
        "\n",
        "    img_height = img.shape[0]\n",
        "    img_width = img.shape[1]\n",
        "\n",
        "    dst_image = np.zeros(shape=[dst_image_height, dst_image_width], dtype=np.uint8)\n",
        "\n",
        "    y_offset = (dst_image_height - img_height) // 2\n",
        "    x_offset = (dst_image_width - img_width) // 2\n",
        "\n",
        "    dst_image[y_offset:y_offset+img_height, x_offset:x_offset+img_width] = img\n",
        "\n",
        "    return dst_image\n",
        "\n",
        "\n",
        "def read_hoda_cdb(file_name):\n",
        "    with open(file_name, 'rb') as binary_file:\n",
        "\n",
        "        data = binary_file.read()\n",
        "\n",
        "        offset = 0\n",
        "\n",
        "        # read private header\n",
        "\n",
        "        yy = struct.unpack_from('H', data, offset)[0]\n",
        "        offset += 2\n",
        "\n",
        "        m = struct.unpack_from('B', data, offset)[0]\n",
        "        offset += 1\n",
        "\n",
        "        d = struct.unpack_from('B', data, offset)[0]\n",
        "        offset += 1\n",
        "\n",
        "        H = struct.unpack_from('B', data, offset)[0]\n",
        "        offset += 1\n",
        "\n",
        "        W = struct.unpack_from('B', data, offset)[0]\n",
        "        offset += 1\n",
        "\n",
        "        TotalRec = struct.unpack_from('I', data, offset)[0]\n",
        "        offset += 4\n",
        "\n",
        "        LetterCount = struct.unpack_from('128I', data, offset)\n",
        "        offset += 128 * 4\n",
        "\n",
        "        imgType = struct.unpack_from('B', data, offset)[0]  # 0: binary, 1: gray\n",
        "        offset += 1\n",
        "\n",
        "        Comments = struct.unpack_from('256c', data, offset)\n",
        "        offset += 256 * 1\n",
        "\n",
        "        Reserved = struct.unpack_from('245c', data, offset)\n",
        "        offset += 245 * 1\n",
        "\n",
        "        if (W > 0) and (H > 0):\n",
        "            normal = True\n",
        "        else:\n",
        "            normal = False\n",
        "\n",
        "        images = []\n",
        "        labels = []\n",
        "\n",
        "        for i in range(TotalRec):\n",
        "\n",
        "            StartByte = struct.unpack_from('B', data, offset)[0]  # must be 0xff\n",
        "            offset += 1\n",
        "\n",
        "            label = struct.unpack_from('B', data, offset)[0]\n",
        "            offset += 1\n",
        "\n",
        "            if not normal:\n",
        "                W = struct.unpack_from('B', data, offset)[0]\n",
        "                offset += 1\n",
        "\n",
        "                H = struct.unpack_from('B', data, offset)[0]\n",
        "                offset += 1\n",
        "\n",
        "            ByteCount = struct.unpack_from('H', data, offset)[0]\n",
        "            offset += 2\n",
        "\n",
        "            image = np.zeros(shape=[H, W], dtype=np.uint8)\n",
        "\n",
        "            if imgType == 0:\n",
        "                # Binary\n",
        "                for y in range(H):\n",
        "                    bWhite = True\n",
        "                    counter = 0\n",
        "                    while counter < W:\n",
        "                        WBcount = struct.unpack_from('B', data, offset)[0]\n",
        "                        offset += 1\n",
        "                        # x = 0\n",
        "                        # while x < WBcount:\n",
        "                        #     if bWhite:\n",
        "                        #         image[y, x + counter] = 0  # Background\n",
        "                        #     else:\n",
        "                        #         image[y, x + counter] = 255  # ForeGround\n",
        "                        #     x += 1\n",
        "                        if bWhite:\n",
        "                            image[y, counter:counter + WBcount] = 0  # Background\n",
        "                        else:\n",
        "                            image[y, counter:counter + WBcount] = 255  # ForeGround\n",
        "                        bWhite = not bWhite  # black white black white ...\n",
        "                        counter += WBcount\n",
        "            else:\n",
        "                # GrayScale mode\n",
        "                data = struct.unpack_from('{}B'.format(W * H), data, offset)\n",
        "                offset += W * H\n",
        "                image = np.asarray(data, dtype=np.uint8).reshape([W, H]).T\n",
        "\n",
        "            images.append(image)\n",
        "            labels.append(label)\n",
        "\n",
        "        return images, labels\n",
        "\n",
        "\n",
        "def read_hoda_dataset(dataset_path, images_height=32, images_width=32, one_hot=False, reshape=True):\n",
        "    images, labels = read_hoda_cdb(dataset_path)\n",
        "    assert len(images) == len(labels)\n",
        "\n",
        "    X = np.zeros(shape=[len(images), images_height, images_width], dtype=np.float32)\n",
        "    Y = np.zeros(shape=[len(labels)], dtype=np.int)\n",
        "\n",
        "    for i in range(len(images)):\n",
        "        image = images[i]\n",
        "        # Image resizing.\n",
        "        image = __resize_image(src_image=image, dst_image_height=images_height, dst_image_width=images_width)\n",
        "        # Image normalization.\n",
        "        image = image / 255\n",
        "        # Image binarization.\n",
        "        image = np.where(image >= 0.5, 1, 0)\n",
        "        # Image.\n",
        "        X[i] = image\n",
        "        # Label.\n",
        "        Y[i] = labels[i]\n",
        "\n",
        "    if one_hot:\n",
        "        Y = __convert_to_one_hot(Y, 10).astype(dtype=np.float32)\n",
        "    else:\n",
        "        Y = Y.astype(dtype=np.float32)\n",
        "\n",
        "    if reshape:\n",
        "        X = X.reshape(-1, images_height * images_width)\n",
        "    else:\n",
        "        X = X.reshape(-1, images_height, images_width, 1)\n",
        "\n",
        "    return X, Y\n",
        "  "
      ]
    },
    {
      "cell_type": "code",
      "source": [
        "# type(train_images):  <class 'list'>\n",
        "# len(train_images):  60000\n",
        "#\n",
        "# type(train_images[ i ]): <class 'numpy.ndarray'>\n",
        "# train_images[ i ].dtype: uint8\n",
        "# train_images[ i ].min(): 0\n",
        "# train_images[ i ].max(): 255\n",
        "# train_images[ i ].shape: (HEIGHT, WIDTH)\n",
        "#\n",
        "# type(train_labels):  <class 'list'>\n",
        "# len(train_labels):  60000\n",
        "#\n",
        "# type(train_labels[ i ]): <class 'int'>\n",
        "# train_labels[ i ]: 0...9\n",
        "print('Reading Train 60000.cdb ...')\n",
        "train_images, train_labels = read_hoda_cdb('/content/Train 60000.cdb')\n",
        "\n",
        "# type(test_images):  <class 'list'>\n",
        "# len(test_images):  20000\n",
        "#\n",
        "# type(test_images[ i ]): <class 'numpy.ndarray'>\n",
        "# test_images[ i ].dtype: uint8\n",
        "# test_images[ i ].min(): 0\n",
        "# test_images[ i ].max(): 255\n",
        "# test_images[ i ].shape: (HEIGHT, WIDTH)\n",
        "#\n",
        "# type(test_labels):  <class 'list'>\n",
        "# len(test_labels):  20000\n",
        "#\n",
        "# type(test_labels[ i ]): <class 'int'>\n",
        "# test_labels[ i ]: 0...9\n",
        "print('Reading Test 20000.cdb ...')\n",
        "test_images, test_labels = read_hoda_cdb('/content/Test 20000.cdb')\n",
        "\n",
        "# type(remaining_images):  <class 'list'>\n",
        "# len(remaining_images):  22352\n",
        "#\n",
        "# type(remaining_images[ i ]): <class 'numpy.ndarray'>\n",
        "# remaining_images[ i ].dtype: uint8\n",
        "# remaining_images[ i ].min(): 0\n",
        "# remaining_images[ i ].max(): 255\n",
        "# remaining_images[ i ].shape: (HEIGHT, WIDTH)\n",
        "#\n",
        "# type(remaining_labels):  <class 'list'>\n",
        "# len(remaining_labels):  22352\n",
        "#\n",
        "# type(remaining_labels[ i ]): <class 'int'>\n",
        "# remaining_labels[ i ]: 0...9\n",
        "print('Reading RemainingSamples.cdb ...')\n",
        "remaining_images, remaining_labels = read_hoda_cdb('/content/RemainingSamples.cdb')\n"
      ],
      "metadata": {
        "colab": {
          "base_uri": "https://localhost:8080/"
        },
        "id": "oS6wcqSgT15G",
        "outputId": "cbfea92f-518d-4c61-dfc3-cabb42f7f969"
      },
      "execution_count": 6,
      "outputs": [
        {
          "output_type": "stream",
          "name": "stdout",
          "text": [
            "Reading Train 60000.cdb ...\n",
            "Reading Test 20000.cdb ...\n",
            "Reading RemainingSamples.cdb ...\n"
          ]
        }
      ]
    },
    {
      "cell_type": "code",
      "source": [
        "print(test_labels[:5])\n",
        "print(test_images[:1])\n"
      ],
      "metadata": {
        "colab": {
          "base_uri": "https://localhost:8080/"
        },
        "id": "BsFeX-_KUn95",
        "outputId": "6e505483-b45d-42fc-8975-a531e988f68b"
      },
      "execution_count": 12,
      "outputs": [
        {
          "output_type": "stream",
          "name": "stdout",
          "text": [
            "[0, 0, 0, 0, 0]\n",
            "[array([[  0,   0,   0,   0,   0,   0, 255, 255,   0,   0,   0,   0,   0,\n",
            "          0,   0,   0],\n",
            "       [  0,   0,   0, 255, 255, 255, 255, 255, 255, 255, 255, 255, 255,\n",
            "          0,   0,   0],\n",
            "       [  0,   0, 255, 255, 255, 255, 255, 255, 255, 255, 255, 255, 255,\n",
            "        255,   0,   0],\n",
            "       [  0, 255, 255, 255, 255, 255, 255, 255, 255, 255, 255, 255, 255,\n",
            "        255, 255,   0],\n",
            "       [  0, 255, 255, 255, 255, 255, 255, 255, 255, 255, 255, 255, 255,\n",
            "        255, 255, 255],\n",
            "       [  0, 255, 255, 255, 255, 255,   0,   0,   0,   0, 255, 255, 255,\n",
            "        255, 255, 255],\n",
            "       [255, 255, 255, 255, 255,   0,   0,   0,   0,   0,   0, 255, 255,\n",
            "        255, 255, 255],\n",
            "       [255, 255, 255, 255, 255,   0,   0,   0,   0,   0,   0, 255, 255,\n",
            "        255, 255, 255],\n",
            "       [255, 255, 255, 255, 255,   0,   0,   0,   0,   0,   0, 255, 255,\n",
            "        255, 255, 255],\n",
            "       [255, 255, 255, 255, 255,   0,   0,   0,   0,   0,   0, 255, 255,\n",
            "        255, 255,   0],\n",
            "       [  0, 255, 255, 255, 255,   0,   0,   0,   0, 255, 255, 255, 255,\n",
            "        255, 255,   0],\n",
            "       [  0, 255, 255, 255, 255,   0,   0,   0, 255, 255, 255, 255, 255,\n",
            "        255,   0,   0],\n",
            "       [  0, 255, 255, 255, 255, 255, 255, 255, 255, 255, 255, 255, 255,\n",
            "          0,   0,   0],\n",
            "       [  0,   0, 255, 255, 255, 255, 255, 255, 255, 255, 255, 255, 255,\n",
            "          0,   0,   0],\n",
            "       [  0,   0,   0, 255, 255, 255, 255, 255, 255, 255, 255, 255,   0,\n",
            "          0,   0,   0],\n",
            "       [  0,   0,   0,   0,   0, 255, 255, 255, 255,   0,   0,   0,   0,\n",
            "          0,   0,   0]], dtype=uint8)]\n"
          ]
        }
      ]
    },
    {
      "cell_type": "code",
      "source": [
        "print(len(train_images))\n",
        "print(len(test_images))\n"
      ],
      "metadata": {
        "colab": {
          "base_uri": "https://localhost:8080/"
        },
        "id": "PWTSp4REWlno",
        "outputId": "1ae8b1da-1fb4-4754-a586-06e3be8623a6"
      },
      "execution_count": 13,
      "outputs": [
        {
          "output_type": "stream",
          "name": "stdout",
          "text": [
            "60000\n",
            "20000\n"
          ]
        }
      ]
    },
    {
      "cell_type": "code",
      "source": [
        "x_train = np.squeeze(train_images)\n",
        "y_train = np.squeeze(train_labels)\n",
        "x_test = np.squeeze(test_images)\n",
        "y_test = np.squeeze(test_labels)\n",
        "print(x_train.shape)\n",
        "print(y_train.shape)\n",
        "print(x_test.shape)\n",
        "print(y_test.shape)\n"
      ],
      "metadata": {
        "colab": {
          "base_uri": "https://localhost:8080/"
        },
        "id": "tw2MzLVzXHfe",
        "outputId": "914070a9-763e-4ed6-a749-788c30add231"
      },
      "execution_count": 18,
      "outputs": [
        {
          "output_type": "stream",
          "name": "stdout",
          "text": [
            "(60000,)\n",
            "(60000,)\n",
            "(20000,)\n",
            "(20000,)\n"
          ]
        },
        {
          "output_type": "stream",
          "name": "stderr",
          "text": [
            "/usr/local/lib/python3.8/dist-packages/numpy/core/fromnumeric.py:43: VisibleDeprecationWarning: Creating an ndarray from ragged nested sequences (which is a list-or-tuple of lists-or-tuples-or ndarrays with different lengths or shapes) is deprecated. If you meant to do this, you must specify 'dtype=object' when creating the ndarray.\n",
            "  result = getattr(asarray(obj), method)(*args, **kwds)\n"
          ]
        }
      ]
    },
    {
      "cell_type": "code",
      "source": [
        "import matplotlib.pyplot as plt\n"
      ],
      "metadata": {
        "id": "REYP4gKOXkNl"
      },
      "execution_count": 19,
      "outputs": []
    },
    {
      "cell_type": "code",
      "source": [
        "print(\"label: \", y_test[10])\n",
        "plt.imshow(x_test[10], cmap=\"gray\")\n",
        "plt.show()\n"
      ],
      "metadata": {
        "colab": {
          "base_uri": "https://localhost:8080/",
          "height": 282
        },
        "id": "6uIv26T3YXcK",
        "outputId": "516ef8d6-97ea-40de-94dd-5045ff671440"
      },
      "execution_count": 25,
      "outputs": [
        {
          "output_type": "stream",
          "name": "stdout",
          "text": [
            "label:  0\n"
          ]
        },
        {
          "output_type": "display_data",
          "data": {
            "text/plain": [
              "<Figure size 432x288 with 1 Axes>"
            ],
            "image/png": "[encoded data removed]"
          },
          "metadata": {
            "needs_background": "light"
          }
        }
      ]
    },
    {
      "cell_type": "code",
      "source": [
        "from skimage.transform import resize\n",
        "\n",
        "# resize 5 by 5 (to reduce features)\n",
        "x_train_5x5 = [resize(img, (5, 5)) for img in x_train]\n",
        "x_test_5x5 = [resize(img, (5, 5)) for img in x_test]\n"
      ],
      "metadata": {
        "id": "CO2Ul_bZYodt"
      },
      "execution_count": 26,
      "outputs": []
    },
    {
      "cell_type": "code",
      "source": [
        "print(\"label: \", y_test[10])\n",
        "plt.imshow(x_test_5x5[10], cmap=\"gray\")\n",
        "plt.show()\n"
      ],
      "metadata": {
        "colab": {
          "base_uri": "https://localhost:8080/",
          "height": 282
        },
        "id": "riXDELKnZ_yA",
        "outputId": "b7219d87-cf92-49cb-ac25-de3d29cef37f"
      },
      "execution_count": 27,
      "outputs": [
        {
          "output_type": "stream",
          "name": "stdout",
          "text": [
            "label:  0\n"
          ]
        },
        {
          "output_type": "display_data",
          "data": {
            "text/plain": [
              "<Figure size 432x288 with 1 Axes>"
            ],
            "image/png": "[encoded data removed]"
          },
          "metadata": {
            "needs_background": "light"
          }
        }
      ]
    },
    {
      "cell_type": "code",
      "source": [
        "# reshape 5x5 to a vector with 25 items\n",
        "x_train_5x5_feat = [x.reshape(25) for x in x_train_5x5]\n",
        "x_test_5x5_feat = [x.reshape(25) for x in x_test_5x5]\n"
      ],
      "metadata": {
        "id": "qLfR24Vgaf2I"
      },
      "execution_count": 30,
      "outputs": []
    },
    {
      "cell_type": "code",
      "source": [],
      "metadata": {
        "id": "UJM2cl24a1Lc"
      },
      "execution_count": null,
      "outputs": []
    }
  ]
}