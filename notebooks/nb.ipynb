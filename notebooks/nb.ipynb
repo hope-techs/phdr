{
  "cells": [
    {
      "cell_type": "code",
      "execution_count": 7,
      "metadata": {
        "id": "LaeVVaQiR4uE"
      },
      "outputs": [
        {
          "ename": "ImportError",
          "evalue": "attempted relative import with no known parent package",
          "output_type": "error",
          "traceback": [
            "\u001b[0;31m---------------------------------------------------------------------------\u001b[0m",
            "\u001b[0;31mImportError\u001b[0m                               Traceback (most recent call last)",
            "Cell \u001b[0;32mIn[7], line 4\u001b[0m\n\u001b[1;32m      2\u001b[0m \u001b[39mimport\u001b[39;00m \u001b[39mnumpy\u001b[39;00m \u001b[39mas\u001b[39;00m \u001b[39mnp\u001b[39;00m\n\u001b[1;32m      3\u001b[0m \u001b[39mimport\u001b[39;00m \u001b[39mcv2\u001b[39;00m\n\u001b[0;32m----> 4\u001b[0m \u001b[39mfrom\u001b[39;00m \u001b[39m.\u001b[39;00m\u001b[39m.\u001b[39;00m\u001b[39mphdr\u001b[39;00m\u001b[39m.\u001b[39;00m\u001b[39mdata\u001b[39;00m\u001b[39m.\u001b[39;00m\u001b[39mhoda_dataset_reader\u001b[39;00m \u001b[39mimport\u001b[39;00m read_hoda_cdb, read_hoda_dataset\n",
            "\u001b[0;31mImportError\u001b[0m: attempted relative import with no known parent package"
          ]
        }
      ],
      "source": [
        "import struct\n",
        "import numpy as np\n",
        "import cv2\n",
        "from ..phdr.data.hoda_dataset_reader import read_hoda_cdb, read_hoda_dataset\n"
      ]
    },
    {
      "cell_type": "code",
      "execution_count": 3,
      "metadata": {
        "colab": {
          "base_uri": "https://localhost:8080/"
        },
        "id": "oS6wcqSgT15G",
        "outputId": "cbfea92f-518d-4c61-dfc3-cabb42f7f969"
      },
      "outputs": [
        {
          "name": "stdout",
          "output_type": "stream",
          "text": [
            "Reading Train 60000.cdb ...\n"
          ]
        },
        {
          "ename": "NameError",
          "evalue": "name 'read_hoda_cdb' is not defined",
          "output_type": "error",
          "traceback": [
            "\u001b[0;31m---------------------------------------------------------------------------\u001b[0m",
            "\u001b[0;31mNameError\u001b[0m                                 Traceback (most recent call last)",
            "Cell \u001b[0;32mIn[3], line 4\u001b[0m\n\u001b[1;32m      1\u001b[0m data_base_path \u001b[39m=\u001b[39m \u001b[39m\"\u001b[39m\u001b[39m../data/raw/hoda/\u001b[39m\u001b[39m\"\u001b[39m\n\u001b[1;32m      3\u001b[0m \u001b[39mprint\u001b[39m(\u001b[39m'\u001b[39m\u001b[39mReading Train 60000.cdb ...\u001b[39m\u001b[39m'\u001b[39m)\n\u001b[0;32m----> 4\u001b[0m train_images, train_labels \u001b[39m=\u001b[39m read_hoda_cdb(data_base_path \u001b[39m+\u001b[39m \u001b[39m'\u001b[39m\u001b[39mtrain_60k.cdb\u001b[39m\u001b[39m'\u001b[39m)\n\u001b[1;32m      6\u001b[0m \u001b[39mprint\u001b[39m(\u001b[39m'\u001b[39m\u001b[39mReading Test 20000.cdb ...\u001b[39m\u001b[39m'\u001b[39m)\n\u001b[1;32m      7\u001b[0m test_images, test_labels \u001b[39m=\u001b[39m read_hoda_cdb(data_base_path \u001b[39m+\u001b[39m \u001b[39m'\u001b[39m\u001b[39mtest_20k.cdb\u001b[39m\u001b[39m'\u001b[39m)\n",
            "\u001b[0;31mNameError\u001b[0m: name 'read_hoda_cdb' is not defined"
          ]
        }
      ],
      "source": [
        "data_base_path = \"../data/raw/hoda/\"\n",
        "\n",
        "print('Reading Train 60000.cdb ...')\n",
        "train_images, train_labels = read_hoda_cdb(data_base_path + 'train_60k.cdb')\n",
        "\n",
        "print('Reading Test 20000.cdb ...')\n",
        "test_images, test_labels = read_hoda_cdb(data_base_path + 'test_20k.cdb')\n",
        "\n",
        "print('Reading RemainingSamples.cdb ...')\n",
        "remaining_images, remaining_labels = read_hoda_cdb(data_base_path + 'remaining_samples.cdb')\n"
      ]
    },
    {
      "cell_type": "code",
      "execution_count": 12,
      "metadata": {
        "colab": {
          "base_uri": "https://localhost:8080/"
        },
        "id": "BsFeX-_KUn95",
        "outputId": "6e505483-b45d-42fc-8975-a531e988f68b"
      },
      "outputs": [
        {
          "name": "stdout",
          "output_type": "stream",
          "text": [
            "[0, 0, 0, 0, 0]\n",
            "[array([[  0,   0,   0,   0,   0,   0, 255, 255,   0,   0,   0,   0,   0,\n",
            "          0,   0,   0],\n",
            "       [  0,   0,   0, 255, 255, 255, 255, 255, 255, 255, 255, 255, 255,\n",
            "          0,   0,   0],\n",
            "       [  0,   0, 255, 255, 255, 255, 255, 255, 255, 255, 255, 255, 255,\n",
            "        255,   0,   0],\n",
            "       [  0, 255, 255, 255, 255, 255, 255, 255, 255, 255, 255, 255, 255,\n",
            "        255, 255,   0],\n",
            "       [  0, 255, 255, 255, 255, 255, 255, 255, 255, 255, 255, 255, 255,\n",
            "        255, 255, 255],\n",
            "       [  0, 255, 255, 255, 255, 255,   0,   0,   0,   0, 255, 255, 255,\n",
            "        255, 255, 255],\n",
            "       [255, 255, 255, 255, 255,   0,   0,   0,   0,   0,   0, 255, 255,\n",
            "        255, 255, 255],\n",
            "       [255, 255, 255, 255, 255,   0,   0,   0,   0,   0,   0, 255, 255,\n",
            "        255, 255, 255],\n",
            "       [255, 255, 255, 255, 255,   0,   0,   0,   0,   0,   0, 255, 255,\n",
            "        255, 255, 255],\n",
            "       [255, 255, 255, 255, 255,   0,   0,   0,   0,   0,   0, 255, 255,\n",
            "        255, 255,   0],\n",
            "       [  0, 255, 255, 255, 255,   0,   0,   0,   0, 255, 255, 255, 255,\n",
            "        255, 255,   0],\n",
            "       [  0, 255, 255, 255, 255,   0,   0,   0, 255, 255, 255, 255, 255,\n",
            "        255,   0,   0],\n",
            "       [  0, 255, 255, 255, 255, 255, 255, 255, 255, 255, 255, 255, 255,\n",
            "          0,   0,   0],\n",
            "       [  0,   0, 255, 255, 255, 255, 255, 255, 255, 255, 255, 255, 255,\n",
            "          0,   0,   0],\n",
            "       [  0,   0,   0, 255, 255, 255, 255, 255, 255, 255, 255, 255,   0,\n",
            "          0,   0,   0],\n",
            "       [  0,   0,   0,   0,   0, 255, 255, 255, 255,   0,   0,   0,   0,\n",
            "          0,   0,   0]], dtype=uint8)]\n"
          ]
        }
      ],
      "source": [
        "print(test_labels[:5])\n",
        "print(test_images[:1])\n"
      ]
    },
    {
      "cell_type": "code",
      "execution_count": 13,
      "metadata": {
        "colab": {
          "base_uri": "https://localhost:8080/"
        },
        "id": "PWTSp4REWlno",
        "outputId": "1ae8b1da-1fb4-4754-a586-06e3be8623a6"
      },
      "outputs": [
        {
          "name": "stdout",
          "output_type": "stream",
          "text": [
            "60000\n",
            "20000\n"
          ]
        }
      ],
      "source": [
        "print(len(train_images))\n",
        "print(len(test_images))\n"
      ]
    },
    {
      "cell_type": "code",
      "execution_count": 18,
      "metadata": {
        "colab": {
          "base_uri": "https://localhost:8080/"
        },
        "id": "tw2MzLVzXHfe",
        "outputId": "914070a9-763e-4ed6-a749-788c30add231"
      },
      "outputs": [
        {
          "name": "stdout",
          "output_type": "stream",
          "text": [
            "(60000,)\n",
            "(60000,)\n",
            "(20000,)\n",
            "(20000,)\n"
          ]
        },
        {
          "name": "stderr",
          "output_type": "stream",
          "text": [
            "/usr/local/lib/python3.8/dist-packages/numpy/core/fromnumeric.py:43: VisibleDeprecationWarning: Creating an ndarray from ragged nested sequences (which is a list-or-tuple of lists-or-tuples-or ndarrays with different lengths or shapes) is deprecated. If you meant to do this, you must specify 'dtype=object' when creating the ndarray.\n",
            "  result = getattr(asarray(obj), method)(*args, **kwds)\n"
          ]
        }
      ],
      "source": [
        "x_train = np.squeeze(train_images)\n",
        "y_train = np.squeeze(train_labels)\n",
        "x_test = np.squeeze(test_images)\n",
        "y_test = np.squeeze(test_labels)\n",
        "print(x_train.shape)\n",
        "print(y_train.shape)\n",
        "print(x_test.shape)\n",
        "print(y_test.shape)\n"
      ]
    },
    {
      "cell_type": "code",
      "execution_count": 19,
      "metadata": {
        "id": "REYP4gKOXkNl"
      },
      "outputs": [],
      "source": [
        "import matplotlib.pyplot as plt\n"
      ]
    },
    {
      "cell_type": "code",
      "execution_count": 25,
      "metadata": {
        "colab": {
          "base_uri": "https://localhost:8080/",
          "height": 282
        },
        "id": "6uIv26T3YXcK",
        "outputId": "516ef8d6-97ea-40de-94dd-5045ff671440"
      },
      "outputs": [
        {
          "name": "stdout",
          "output_type": "stream",
          "text": [
            "label:  0\n"
          ]
        },
        {
          "data": {
            "image/png": "[encoded data removed]",
            "text/plain": [
              "<Figure size 432x288 with 1 Axes>"
            ]
          },
          "metadata": {
            "needs_background": "light"
          },
          "output_type": "display_data"
        }
      ],
      "source": [
        "print(\"label: \", y_test[10])\n",
        "plt.imshow(x_test[10], cmap=\"gray\")\n",
        "plt.show()\n"
      ]
    },
    {
      "cell_type": "code",
      "execution_count": 26,
      "metadata": {
        "id": "CO2Ul_bZYodt"
      },
      "outputs": [],
      "source": [
        "from skimage.transform import resize\n",
        "\n",
        "# resize 5 by 5 (to reduce features)\n",
        "x_train_5x5 = [resize(img, (5, 5)) for img in x_train]\n",
        "x_test_5x5 = [resize(img, (5, 5)) for img in x_test]\n"
      ]
    },
    {
      "cell_type": "code",
      "execution_count": 27,
      "metadata": {
        "colab": {
          "base_uri": "https://localhost:8080/",
          "height": 282
        },
        "id": "riXDELKnZ_yA",
        "outputId": "b7219d87-cf92-49cb-ac25-de3d29cef37f"
      },
      "outputs": [
        {
          "name": "stdout",
          "output_type": "stream",
          "text": [
            "label:  0\n"
          ]
        },
        {
          "data": {
            "image/png": "[encoded data removed]",
            "text/plain": [
              "<Figure size 432x288 with 1 Axes>"
            ]
          },
          "metadata": {
            "needs_background": "light"
          },
          "output_type": "display_data"
        }
      ],
      "source": [
        "print(\"label: \", y_test[10])\n",
        "plt.imshow(x_test_5x5[10], cmap=\"gray\")\n",
        "plt.show()\n"
      ]
    },
    {
      "cell_type": "code",
      "execution_count": 30,
      "metadata": {
        "id": "qLfR24Vgaf2I"
      },
      "outputs": [],
      "source": [
        "# reshape 5x5 to a vector with 25 items\n",
        "x_train_5x5_feat = [x.reshape(25) for x in x_train_5x5]\n",
        "x_test_5x5_feat = [x.reshape(25) for x in x_test_5x5]\n"
      ]
    },
    {
      "cell_type": "code",
      "execution_count": 51,
      "metadata": {
        "colab": {
          "base_uri": "https://localhost:8080/"
        },
        "id": "UJM2cl24a1Lc",
        "outputId": "5ab9304f-7651-45b0-ddd7-2fa41853f1d4"
      },
      "outputs": [
        {
          "data": {
            "text/plain": [
              "KNeighborsClassifier()"
            ]
          },
          "execution_count": 51,
          "metadata": {},
          "output_type": "execute_result"
        }
      ],
      "source": [
        "from sklearn.neighbors import KNeighborsClassifier\n",
        "\n",
        "model = KNeighborsClassifier(n_neighbors=5)\n",
        "model.fit(x_train_5x5_feat, y_train)\n"
      ]
    },
    {
      "cell_type": "code",
      "execution_count": 53,
      "metadata": {
        "colab": {
          "base_uri": "https://localhost:8080/"
        },
        "id": "LuRJUAXtcd3F",
        "outputId": "b3ab61d3-fef5-4768-9648-cac1ba7966c3"
      },
      "outputs": [
        {
          "name": "stdout",
          "output_type": "stream",
          "text": [
            "Sample 1000 is 0 and predicted as [0]\n"
          ]
        }
      ],
      "source": [
        "sample = 1000\n",
        "x_sample = [x_test_5x5_feat[sample]]\n",
        "predicted_class = model.predict(x_sample)\n",
        "actual_class = y_test[sample]\n",
        "\n",
        "print(f\"Sample {sample} is {actual_class} and predicted as {predicted_class}\")\n"
      ]
    },
    {
      "cell_type": "code",
      "execution_count": 54,
      "metadata": {
        "colab": {
          "base_uri": "https://localhost:8080/"
        },
        "id": "5ScnektufGdl",
        "outputId": "fb2c1c9e-ace1-4008-ac39-512e4f5f53bb"
      },
      "outputs": [
        {
          "name": "stdout",
          "output_type": "stream",
          "text": [
            "[[1. 0. 0. 0. 0. 0. 0. 0. 0. 0.]]\n"
          ]
        }
      ],
      "source": [
        "print(model.predict_proba(x_sample))\n"
      ]
    },
    {
      "cell_type": "code",
      "execution_count": null,
      "metadata": {
        "id": "wF7yMYNMfM0A"
      },
      "outputs": [],
      "source": []
    }
  ],
  "metadata": {
    "colab": {
      "authorship_tag": "ABX9TyOleXa7SxqiI/Enxf7XmVqJ",
      "include_colab_link": true,
      "provenance": []
    },
    "kernelspec": {
      "display_name": "phdr",
      "language": "python",
      "name": "python3"
    },
    "language_info": {
      "codemirror_mode": {
        "name": "ipython",
        "version": 3
      },
      "file_extension": ".py",
      "mimetype": "text/x-python",
      "name": "python",
      "nbconvert_exporter": "python",
      "pygments_lexer": "ipython3",
      "version": "3.10.8"
    },
    "vscode": {
      "interpreter": {
        "hash": "2129303710722de66936dadef14ac1aad98235754bcabb2e431d04fa12b354c1"
      }
    }
  },
  "nbformat": 4,
  "nbformat_minor": 0
}
