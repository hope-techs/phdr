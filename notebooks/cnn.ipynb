{
 "cells": [
  {
   "cell_type": "code",
   "execution_count": 1,
   "metadata": {},
   "outputs": [
    {
     "name": "stderr",
     "output_type": "stream",
     "text": [
      "2022-12-16 10:24:15.712826: I tensorflow/core/platform/cpu_feature_guard.cc:193] This TensorFlow binary is optimized with oneAPI Deep Neural Network Library (oneDNN) to use the following CPU instructions in performance-critical operations:  AVX2 AVX512F AVX512_VNNI FMA\n",
      "To enable them in other operations, rebuild TensorFlow with the appropriate compiler flags.\n",
      "2022-12-16 10:24:15.868953: I tensorflow/core/util/port.cc:104] oneDNN custom operations are on. You may see slightly different numerical results due to floating-point round-off errors from different computation orders. To turn them off, set the environment variable `TF_ENABLE_ONEDNN_OPTS=0`.\n"
     ]
    }
   ],
   "source": [
    "import struct\n",
    "import numpy as np\n",
    "import cv2\n",
    "import matplotlib.pyplot as plt\n",
    "from skimage.transform import resize\n",
    "from sklearn.neighbors import KNeighborsClassifier\n",
    "import tensorflow as tf\n",
    "\n",
    "from phdr.data.hoda_dataset_reader import read_hoda_cdb, read_hoda_dataset\n"
   ]
  },
  {
   "cell_type": "code",
   "execution_count": 2,
   "metadata": {},
   "outputs": [
    {
     "name": "stdout",
     "output_type": "stream",
     "text": [
      "Reading Train 60000.cdb ...\n",
      "Reading Test 20000.cdb ...\n",
      "Reading RemainingSamples.cdb ...\n"
     ]
    }
   ],
   "source": [
    "data_base_path = \"../data/raw/hoda/\"\n",
    "\n",
    "print('Reading Train 60000.cdb ...')\n",
    "train_images, train_labels = read_hoda_cdb(data_base_path + 'train_60k.cdb')\n",
    "\n",
    "print('Reading Test 20000.cdb ...')\n",
    "test_images, test_labels = read_hoda_cdb(data_base_path + 'test_20k.cdb')\n",
    "\n",
    "print('Reading RemainingSamples.cdb ...')\n",
    "remaining_images, remaining_labels = read_hoda_cdb(data_base_path + 'remaining_samples.cdb')\n"
   ]
  },
  {
   "cell_type": "code",
   "execution_count": 3,
   "metadata": {},
   "outputs": [
    {
     "name": "stdout",
     "output_type": "stream",
     "text": [
      "[0, 0, 0, 0, 0]\n",
      "[array([[  0,   0,   0,   0,   0,   0, 255, 255,   0,   0,   0,   0,   0,\n",
      "          0,   0,   0],\n",
      "       [  0,   0,   0, 255, 255, 255, 255, 255, 255, 255, 255, 255, 255,\n",
      "          0,   0,   0],\n",
      "       [  0,   0, 255, 255, 255, 255, 255, 255, 255, 255, 255, 255, 255,\n",
      "        255,   0,   0],\n",
      "       [  0, 255, 255, 255, 255, 255, 255, 255, 255, 255, 255, 255, 255,\n",
      "        255, 255,   0],\n",
      "       [  0, 255, 255, 255, 255, 255, 255, 255, 255, 255, 255, 255, 255,\n",
      "        255, 255, 255],\n",
      "       [  0, 255, 255, 255, 255, 255,   0,   0,   0,   0, 255, 255, 255,\n",
      "        255, 255, 255],\n",
      "       [255, 255, 255, 255, 255,   0,   0,   0,   0,   0,   0, 255, 255,\n",
      "        255, 255, 255],\n",
      "       [255, 255, 255, 255, 255,   0,   0,   0,   0,   0,   0, 255, 255,\n",
      "        255, 255, 255],\n",
      "       [255, 255, 255, 255, 255,   0,   0,   0,   0,   0,   0, 255, 255,\n",
      "        255, 255, 255],\n",
      "       [255, 255, 255, 255, 255,   0,   0,   0,   0,   0,   0, 255, 255,\n",
      "        255, 255,   0],\n",
      "       [  0, 255, 255, 255, 255,   0,   0,   0,   0, 255, 255, 255, 255,\n",
      "        255, 255,   0],\n",
      "       [  0, 255, 255, 255, 255,   0,   0,   0, 255, 255, 255, 255, 255,\n",
      "        255,   0,   0],\n",
      "       [  0, 255, 255, 255, 255, 255, 255, 255, 255, 255, 255, 255, 255,\n",
      "          0,   0,   0],\n",
      "       [  0,   0, 255, 255, 255, 255, 255, 255, 255, 255, 255, 255, 255,\n",
      "          0,   0,   0],\n",
      "       [  0,   0,   0, 255, 255, 255, 255, 255, 255, 255, 255, 255,   0,\n",
      "          0,   0,   0],\n",
      "       [  0,   0,   0,   0,   0, 255, 255, 255, 255,   0,   0,   0,   0,\n",
      "          0,   0,   0]], dtype=uint8)]\n"
     ]
    }
   ],
   "source": [
    "print(test_labels[:5])\n",
    "print(test_images[:1])\n"
   ]
  },
  {
   "cell_type": "code",
   "execution_count": 4,
   "metadata": {},
   "outputs": [
    {
     "name": "stdout",
     "output_type": "stream",
     "text": [
      "60000\n",
      "20000\n"
     ]
    }
   ],
   "source": [
    "print(len(train_images))\n",
    "print(len(test_images))\n"
   ]
  },
  {
   "cell_type": "code",
   "execution_count": 5,
   "metadata": {},
   "outputs": [
    {
     "name": "stdout",
     "output_type": "stream",
     "text": [
      "6000\n",
      "2000\n"
     ]
    }
   ],
   "source": [
    "data_ratio = 0.1\n",
    "train_images = train_images[:int(len(train_images) * data_ratio)]\n",
    "train_labels = train_labels[:int(len(train_labels) * data_ratio)]\n",
    "test_images = test_images[:int(len(test_images) * data_ratio)]\n",
    "test_labels = test_labels[:int(len(test_labels) * data_ratio)]\n",
    "\n",
    "print(len(train_images))\n",
    "print(len(test_images))\n"
   ]
  },
  {
   "cell_type": "code",
   "execution_count": 6,
   "metadata": {},
   "outputs": [
    {
     "name": "stdout",
     "output_type": "stream",
     "text": [
      "(6000,)\n",
      "(6000,)\n",
      "(2000,)\n",
      "(2000,)\n"
     ]
    },
    {
     "name": "stderr",
     "output_type": "stream",
     "text": [
      "/home/smbh/.virtualenvs/phdr/lib/python3.10/site-packages/numpy/core/fromnumeric.py:43: VisibleDeprecationWarning: Creating an ndarray from ragged nested sequences (which is a list-or-tuple of lists-or-tuples-or ndarrays with different lengths or shapes) is deprecated. If you meant to do this, you must specify 'dtype=object' when creating the ndarray.\n",
      "  result = getattr(asarray(obj), method)(*args, **kwds)\n"
     ]
    }
   ],
   "source": [
    "x_train = np.squeeze(train_images)\n",
    "y_train = np.squeeze(train_labels)\n",
    "x_test = np.squeeze(test_images)\n",
    "y_test = np.squeeze(test_labels)\n",
    "print(x_train.shape)\n",
    "print(y_train.shape)\n",
    "print(x_test.shape)\n",
    "print(y_test.shape)\n"
   ]
  },
  {
   "cell_type": "code",
   "execution_count": 7,
   "metadata": {},
   "outputs": [
    {
     "name": "stdout",
     "output_type": "stream",
     "text": [
      "label:  0\n"
     ]
    },
    {
     "data": {
      "image/png": "[encoded data removed]",
      "text/plain": [
       "<Figure size 640x480 with 1 Axes>"
      ]
     },
     "metadata": {},
     "output_type": "display_data"
    }
   ],
   "source": [
    "print(\"label: \", y_test[10])\n",
    "plt.imshow(x_test[10], cmap=\"gray\")\n",
    "plt.show()\n"
   ]
  },
  {
   "cell_type": "code",
   "execution_count": 8,
   "metadata": {},
   "outputs": [],
   "source": [
    "# resize 5 by 5 (to reduce features)\n",
    "x_train_5x5 = [resize(img, (5, 5)) for img in x_train]\n",
    "x_test_5x5 = [resize(img, (5, 5)) for img in x_test]\n"
   ]
  },
  {
   "cell_type": "code",
   "execution_count": 9,
   "metadata": {},
   "outputs": [
    {
     "name": "stdout",
     "output_type": "stream",
     "text": [
      "label:  0\n"
     ]
    },
    {
     "data": {
      "image/png": "[encoded data removed]",
      "text/plain": [
       "<Figure size 640x480 with 1 Axes>"
      ]
     },
     "metadata": {},
     "output_type": "display_data"
    }
   ],
   "source": [
    "print(\"label: \", y_test[10])\n",
    "plt.imshow(x_test_5x5[10], cmap=\"gray\")\n",
    "plt.show()\n"
   ]
  },
  {
   "cell_type": "code",
   "execution_count": 10,
   "metadata": {},
   "outputs": [],
   "source": [
    "# reshape 5x5 to a vector with 25 items\n",
    "x_train_5x5_feat = [x.reshape(25) for x in x_train_5x5]\n",
    "x_test_5x5_feat = [x.reshape(25) for x in x_test_5x5]\n"
   ]
  },
  {
   "cell_type": "code",
   "execution_count": 13,
   "metadata": {},
   "outputs": [
    {
     "name": "stdout",
     "output_type": "stream",
     "text": [
      "Model: \"sequential_2\"\n",
      "_________________________________________________________________\n",
      " Layer (type)                Output Shape              Param #   \n",
      "=================================================================\n",
      " dense_4 (Dense)             (None, 64)                1664      \n",
      "                                                                 \n",
      " dense_5 (Dense)             (None, 10)                650       \n",
      "                                                                 \n",
      "=================================================================\n",
      "Total params: 2,314\n",
      "Trainable params: 2,314\n",
      "Non-trainable params: 0\n",
      "_________________________________________________________________\n"
     ]
    }
   ],
   "source": [
    "model = tf.keras.models.Sequential()\n",
    "model.add(tf.keras.layers.Dense(64, input_shape=(25,), activation='relu'))\n",
    "model.add(tf.keras.layers.Dense(10, activation='softmax'))\n",
    "model.compile(\n",
    "    optimizer='rmsprop',\n",
    "    loss='categorical_crossentropy',\n",
    "    metrics=['accuracy']\n",
    ")\n",
    "model.summary()\n"
   ]
  },
  {
   "cell_type": "code",
   "execution_count": 16,
   "metadata": {},
   "outputs": [
    {
     "name": "stdout",
     "output_type": "stream",
     "text": [
      "Epoch 1/30\n",
      "94/94 [==============================] - 0s 765us/step - loss: 0.8075 - accuracy: 0.8553\n",
      "Epoch 2/30\n",
      "94/94 [==============================] - 0s 633us/step - loss: 0.5555 - accuracy: 0.8835\n",
      "Epoch 3/30\n",
      "94/94 [==============================] - 0s 641us/step - loss: 0.4270 - accuracy: 0.8972\n",
      "Epoch 4/30\n",
      "94/94 [==============================] - 0s 645us/step - loss: 0.3504 - accuracy: 0.9137\n",
      "Epoch 5/30\n",
      "94/94 [==============================] - 0s 632us/step - loss: 0.3012 - accuracy: 0.9198\n",
      "Epoch 6/30\n",
      "94/94 [==============================] - 0s 628us/step - loss: 0.2669 - accuracy: 0.9320\n",
      "Epoch 7/30\n",
      "94/94 [==============================] - 0s 635us/step - loss: 0.2434 - accuracy: 0.9367\n",
      "Epoch 8/30\n",
      "94/94 [==============================] - 0s 650us/step - loss: 0.2239 - accuracy: 0.9410\n",
      "Epoch 9/30\n",
      "94/94 [==============================] - 0s 659us/step - loss: 0.2094 - accuracy: 0.9438\n",
      "Epoch 10/30\n",
      "94/94 [==============================] - 0s 631us/step - loss: 0.1986 - accuracy: 0.9462\n",
      "Epoch 11/30\n",
      "94/94 [==============================] - 0s 622us/step - loss: 0.1878 - accuracy: 0.9465\n",
      "Epoch 12/30\n",
      "94/94 [==============================] - 0s 681us/step - loss: 0.1812 - accuracy: 0.9488\n",
      "Epoch 13/30\n",
      "94/94 [==============================] - 0s 639us/step - loss: 0.1734 - accuracy: 0.9518\n",
      "Epoch 14/30\n",
      "94/94 [==============================] - 0s 606us/step - loss: 0.1678 - accuracy: 0.9510\n",
      "Epoch 15/30\n",
      "94/94 [==============================] - 0s 606us/step - loss: 0.1623 - accuracy: 0.9533\n",
      "Epoch 16/30\n",
      "94/94 [==============================] - 0s 643us/step - loss: 0.1570 - accuracy: 0.9562\n",
      "Epoch 17/30\n",
      "94/94 [==============================] - 0s 694us/step - loss: 0.1529 - accuracy: 0.9565\n",
      "Epoch 18/30\n",
      "94/94 [==============================] - 0s 648us/step - loss: 0.1485 - accuracy: 0.9573\n",
      "Epoch 19/30\n",
      "94/94 [==============================] - 0s 623us/step - loss: 0.1456 - accuracy: 0.9573\n",
      "Epoch 20/30\n",
      "94/94 [==============================] - 0s 758us/step - loss: 0.1423 - accuracy: 0.9578\n",
      "Epoch 21/30\n",
      "94/94 [==============================] - 0s 663us/step - loss: 0.1382 - accuracy: 0.9588\n",
      "Epoch 22/30\n",
      "94/94 [==============================] - 0s 654us/step - loss: 0.1358 - accuracy: 0.9602\n",
      "Epoch 23/30\n",
      "94/94 [==============================] - 0s 653us/step - loss: 0.1327 - accuracy: 0.9615\n",
      "Epoch 24/30\n",
      "94/94 [==============================] - 0s 712us/step - loss: 0.1298 - accuracy: 0.9603\n",
      "Epoch 25/30\n",
      "94/94 [==============================] - 0s 685us/step - loss: 0.1272 - accuracy: 0.9630\n",
      "Epoch 26/30\n",
      "94/94 [==============================] - 0s 665us/step - loss: 0.1255 - accuracy: 0.9638\n",
      "Epoch 27/30\n",
      "94/94 [==============================] - 0s 690us/step - loss: 0.1234 - accuracy: 0.9638\n",
      "Epoch 28/30\n",
      "94/94 [==============================] - 0s 714us/step - loss: 0.1208 - accuracy: 0.9638\n",
      "Epoch 29/30\n",
      "94/94 [==============================] - 0s 633us/step - loss: 0.1177 - accuracy: 0.9648\n",
      "Epoch 30/30\n",
      "94/94 [==============================] - 0s 675us/step - loss: 0.1166 - accuracy: 0.9660\n"
     ]
    },
    {
     "data": {
      "text/plain": [
       "<keras.callbacks.History at 0x7f4610693880>"
      ]
     },
     "execution_count": 16,
     "metadata": {},
     "output_type": "execute_result"
    }
   ],
   "source": [
    "model.fit(\n",
    "    np.array(x_train_5x5_feat),\n",
    "    tf.keras.utils.to_categorical(y_train),\n",
    "    epochs=30,\n",
    "    batch_size=64\n",
    ")\n"
   ]
  },
  {
   "cell_type": "code",
   "execution_count": 21,
   "metadata": {},
   "outputs": [
    {
     "ename": "ValueError",
     "evalue": "in user code:\n\n    File \"/home/smbh/.virtualenvs/phdr/lib/python3.10/site-packages/keras/engine/training.py\", line 1820, in test_function  *\n        return step_function(self, iterator)\n    File \"/home/smbh/.virtualenvs/phdr/lib/python3.10/site-packages/keras/engine/training.py\", line 1804, in step_function  **\n        outputs = model.distribute_strategy.run(run_step, args=(data,))\n    File \"/home/smbh/.virtualenvs/phdr/lib/python3.10/site-packages/keras/engine/training.py\", line 1792, in run_step  **\n        outputs = model.test_step(data)\n    File \"/home/smbh/.virtualenvs/phdr/lib/python3.10/site-packages/keras/engine/training.py\", line 1758, in test_step\n        self.compute_loss(x, y, y_pred, sample_weight)\n    File \"/home/smbh/.virtualenvs/phdr/lib/python3.10/site-packages/keras/engine/training.py\", line 1082, in compute_loss\n        return self.compiled_loss(\n    File \"/home/smbh/.virtualenvs/phdr/lib/python3.10/site-packages/keras/engine/compile_utils.py\", line 265, in __call__\n        loss_value = loss_obj(y_t, y_p, sample_weight=sw)\n    File \"/home/smbh/.virtualenvs/phdr/lib/python3.10/site-packages/keras/losses.py\", line 152, in __call__\n        losses = call_fn(y_true, y_pred)\n    File \"/home/smbh/.virtualenvs/phdr/lib/python3.10/site-packages/keras/losses.py\", line 284, in call  **\n        return ag_fn(y_true, y_pred, **self._fn_kwargs)\n    File \"/home/smbh/.virtualenvs/phdr/lib/python3.10/site-packages/keras/losses.py\", line 2004, in categorical_crossentropy\n        return backend.categorical_crossentropy(\n    File \"/home/smbh/.virtualenvs/phdr/lib/python3.10/site-packages/keras/backend.py\", line 5532, in categorical_crossentropy\n        target.shape.assert_is_compatible_with(output.shape)\n\n    ValueError: Shapes (None, 1) and (None, 10) are incompatible\n",
     "output_type": "error",
     "traceback": [
      "\u001b[0;31m---------------------------------------------------------------------------\u001b[0m",
      "\u001b[0;31mValueError\u001b[0m                                Traceback (most recent call last)",
      "Cell \u001b[0;32mIn[21], line 2\u001b[0m\n\u001b[1;32m      1\u001b[0m \u001b[39m# evaluate the model\u001b[39;00m\n\u001b[0;32m----> 2\u001b[0m score \u001b[39m=\u001b[39m model\u001b[39m.\u001b[39;49mevaluate(np\u001b[39m.\u001b[39;49marray(x_test_5x5_feat), tf\u001b[39m.\u001b[39;49mkeras\u001b[39m.\u001b[39;49mutils\u001b[39m.\u001b[39;49mto_categorical(y_test), verbose\u001b[39m=\u001b[39;49m\u001b[39m0\u001b[39;49m)\n\u001b[1;32m      3\u001b[0m \u001b[39mprint\u001b[39m(\u001b[39m'\u001b[39m\u001b[39mTest loss:\u001b[39m\u001b[39m'\u001b[39m, score[\u001b[39m0\u001b[39m])\n\u001b[1;32m      4\u001b[0m \u001b[39mprint\u001b[39m(\u001b[39m'\u001b[39m\u001b[39mTest accuracy:\u001b[39m\u001b[39m'\u001b[39m, score[\u001b[39m1\u001b[39m])\n",
      "File \u001b[0;32m~/.virtualenvs/phdr/lib/python3.10/site-packages/keras/utils/traceback_utils.py:70\u001b[0m, in \u001b[0;36mfilter_traceback.<locals>.error_handler\u001b[0;34m(*args, **kwargs)\u001b[0m\n\u001b[1;32m     67\u001b[0m     filtered_tb \u001b[39m=\u001b[39m _process_traceback_frames(e\u001b[39m.\u001b[39m__traceback__)\n\u001b[1;32m     68\u001b[0m     \u001b[39m# To get the full stack trace, call:\u001b[39;00m\n\u001b[1;32m     69\u001b[0m     \u001b[39m# `tf.debugging.disable_traceback_filtering()`\u001b[39;00m\n\u001b[0;32m---> 70\u001b[0m     \u001b[39mraise\u001b[39;00m e\u001b[39m.\u001b[39mwith_traceback(filtered_tb) \u001b[39mfrom\u001b[39;00m \u001b[39mNone\u001b[39m\n\u001b[1;32m     71\u001b[0m \u001b[39mfinally\u001b[39;00m:\n\u001b[1;32m     72\u001b[0m     \u001b[39mdel\u001b[39;00m filtered_tb\n",
      "File \u001b[0;32m/tmp/__autograph_generated_fileu1n2wl7w.py:15\u001b[0m, in \u001b[0;36mouter_factory.<locals>.inner_factory.<locals>.tf__test_function\u001b[0;34m(iterator)\u001b[0m\n\u001b[1;32m     13\u001b[0m \u001b[39mtry\u001b[39;00m:\n\u001b[1;32m     14\u001b[0m     do_return \u001b[39m=\u001b[39m \u001b[39mTrue\u001b[39;00m\n\u001b[0;32m---> 15\u001b[0m     retval_ \u001b[39m=\u001b[39m ag__\u001b[39m.\u001b[39mconverted_call(ag__\u001b[39m.\u001b[39mld(step_function), (ag__\u001b[39m.\u001b[39mld(\u001b[39mself\u001b[39m), ag__\u001b[39m.\u001b[39mld(iterator)), \u001b[39mNone\u001b[39;00m, fscope)\n\u001b[1;32m     16\u001b[0m \u001b[39mexcept\u001b[39;00m:\n\u001b[1;32m     17\u001b[0m     do_return \u001b[39m=\u001b[39m \u001b[39mFalse\u001b[39;00m\n",
      "\u001b[0;31mValueError\u001b[0m: in user code:\n\n    File \"/home/smbh/.virtualenvs/phdr/lib/python3.10/site-packages/keras/engine/training.py\", line 1820, in test_function  *\n        return step_function(self, iterator)\n    File \"/home/smbh/.virtualenvs/phdr/lib/python3.10/site-packages/keras/engine/training.py\", line 1804, in step_function  **\n        outputs = model.distribute_strategy.run(run_step, args=(data,))\n    File \"/home/smbh/.virtualenvs/phdr/lib/python3.10/site-packages/keras/engine/training.py\", line 1792, in run_step  **\n        outputs = model.test_step(data)\n    File \"/home/smbh/.virtualenvs/phdr/lib/python3.10/site-packages/keras/engine/training.py\", line 1758, in test_step\n        self.compute_loss(x, y, y_pred, sample_weight)\n    File \"/home/smbh/.virtualenvs/phdr/lib/python3.10/site-packages/keras/engine/training.py\", line 1082, in compute_loss\n        return self.compiled_loss(\n    File \"/home/smbh/.virtualenvs/phdr/lib/python3.10/site-packages/keras/engine/compile_utils.py\", line 265, in __call__\n        loss_value = loss_obj(y_t, y_p, sample_weight=sw)\n    File \"/home/smbh/.virtualenvs/phdr/lib/python3.10/site-packages/keras/losses.py\", line 152, in __call__\n        losses = call_fn(y_true, y_pred)\n    File \"/home/smbh/.virtualenvs/phdr/lib/python3.10/site-packages/keras/losses.py\", line 284, in call  **\n        return ag_fn(y_true, y_pred, **self._fn_kwargs)\n    File \"/home/smbh/.virtualenvs/phdr/lib/python3.10/site-packages/keras/losses.py\", line 2004, in categorical_crossentropy\n        return backend.categorical_crossentropy(\n    File \"/home/smbh/.virtualenvs/phdr/lib/python3.10/site-packages/keras/backend.py\", line 5532, in categorical_crossentropy\n        target.shape.assert_is_compatible_with(output.shape)\n\n    ValueError: Shapes (None, 1) and (None, 10) are incompatible\n"
     ]
    }
   ],
   "source": [
    "# evaluate the model\n",
    "score = model.evaluate(np.array(x_test_5x5_feat), tf.keras.utils.to_categorical(y_test), verbose=0)\n",
    "print('Test loss:', score[0])\n",
    "print('Test accuracy:', score[1])\n"
   ]
  }
 ],
 "metadata": {
  "kernelspec": {
   "display_name": "phdr",
   "language": "python",
   "name": "python3"
  },
  "language_info": {
   "codemirror_mode": {
    "name": "ipython",
    "version": 3
   },
   "file_extension": ".py",
   "mimetype": "text/x-python",
   "name": "python",
   "nbconvert_exporter": "python",
   "pygments_lexer": "ipython3",
   "version": "3.10.8"
  },
  "orig_nbformat": 4,
  "vscode": {
   "interpreter": {
    "hash": "2129303710722de66936dadef14ac1aad98235754bcabb2e431d04fa12b354c1"
   }
  }
 },
 "nbformat": 4,
 "nbformat_minor": 2
}
