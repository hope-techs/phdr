{
  "cells": [
    {
      "cell_type": "code",
      "execution_count": 50,
      "metadata": {
        "id": "LaeVVaQiR4uE"
      },
      "outputs": [],
      "source": [
        "import struct\n",
        "import numpy as np\n",
        "import cv2\n",
        "import matplotlib.pyplot as plt\n",
        "from skimage.transform import resize\n",
        "from sklearn.neighbors import KNeighborsClassifier\n",
        "\n",
        "from phdr.data.hoda_dataset_reader import read_hoda_cdb, read_hoda_dataset\n"
      ]
    },
    {
      "cell_type": "code",
      "execution_count": 51,
      "metadata": {
        "colab": {
          "base_uri": "https://localhost:8080/"
        },
        "id": "oS6wcqSgT15G",
        "outputId": "cbfea92f-518d-4c61-dfc3-cabb42f7f969"
      },
      "outputs": [
        {
          "name": "stdout",
          "output_type": "stream",
          "text": [
            "Reading Train 60000.cdb ...\n",
            "Reading Test 20000.cdb ...\n",
            "Reading RemainingSamples.cdb ...\n"
          ]
        }
      ],
      "source": [
        "data_base_path = \"../data/raw/hoda/\"\n",
        "\n",
        "print('Reading Train 60000.cdb ...')\n",
        "train_images, train_labels = read_hoda_cdb(data_base_path + 'train_60k.cdb')\n",
        "\n",
        "print('Reading Test 20000.cdb ...')\n",
        "test_images, test_labels = read_hoda_cdb(data_base_path + 'test_20k.cdb')\n",
        "\n",
        "print('Reading RemainingSamples.cdb ...')\n",
        "remaining_images, remaining_labels = read_hoda_cdb(data_base_path + 'remaining_samples.cdb')\n"
      ]
    },
    {
      "cell_type": "code",
      "execution_count": 52,
      "metadata": {
        "colab": {
          "base_uri": "https://localhost:8080/"
        },
        "id": "BsFeX-_KUn95",
        "outputId": "6e505483-b45d-42fc-8975-a531e988f68b"
      },
      "outputs": [
        {
          "name": "stdout",
          "output_type": "stream",
          "text": [
            "[0, 0, 0, 0, 0]\n",
            "[array([[  0,   0,   0,   0,   0,   0, 255, 255,   0,   0,   0,   0,   0,\n",
            "          0,   0,   0],\n",
            "       [  0,   0,   0, 255, 255, 255, 255, 255, 255, 255, 255, 255, 255,\n",
            "          0,   0,   0],\n",
            "       [  0,   0, 255, 255, 255, 255, 255, 255, 255, 255, 255, 255, 255,\n",
            "        255,   0,   0],\n",
            "       [  0, 255, 255, 255, 255, 255, 255, 255, 255, 255, 255, 255, 255,\n",
            "        255, 255,   0],\n",
            "       [  0, 255, 255, 255, 255, 255, 255, 255, 255, 255, 255, 255, 255,\n",
            "        255, 255, 255],\n",
            "       [  0, 255, 255, 255, 255, 255,   0,   0,   0,   0, 255, 255, 255,\n",
            "        255, 255, 255],\n",
            "       [255, 255, 255, 255, 255,   0,   0,   0,   0,   0,   0, 255, 255,\n",
            "        255, 255, 255],\n",
            "       [255, 255, 255, 255, 255,   0,   0,   0,   0,   0,   0, 255, 255,\n",
            "        255, 255, 255],\n",
            "       [255, 255, 255, 255, 255,   0,   0,   0,   0,   0,   0, 255, 255,\n",
            "        255, 255, 255],\n",
            "       [255, 255, 255, 255, 255,   0,   0,   0,   0,   0,   0, 255, 255,\n",
            "        255, 255,   0],\n",
            "       [  0, 255, 255, 255, 255,   0,   0,   0,   0, 255, 255, 255, 255,\n",
            "        255, 255,   0],\n",
            "       [  0, 255, 255, 255, 255,   0,   0,   0, 255, 255, 255, 255, 255,\n",
            "        255,   0,   0],\n",
            "       [  0, 255, 255, 255, 255, 255, 255, 255, 255, 255, 255, 255, 255,\n",
            "          0,   0,   0],\n",
            "       [  0,   0, 255, 255, 255, 255, 255, 255, 255, 255, 255, 255, 255,\n",
            "          0,   0,   0],\n",
            "       [  0,   0,   0, 255, 255, 255, 255, 255, 255, 255, 255, 255,   0,\n",
            "          0,   0,   0],\n",
            "       [  0,   0,   0,   0,   0, 255, 255, 255, 255,   0,   0,   0,   0,\n",
            "          0,   0,   0]], dtype=uint8)]\n"
          ]
        }
      ],
      "source": [
        "print(test_labels[:5])\n",
        "print(test_images[:1])\n"
      ]
    },
    {
      "cell_type": "code",
      "execution_count": 53,
      "metadata": {
        "colab": {
          "base_uri": "https://localhost:8080/"
        },
        "id": "PWTSp4REWlno",
        "outputId": "1ae8b1da-1fb4-4754-a586-06e3be8623a6"
      },
      "outputs": [
        {
          "name": "stdout",
          "output_type": "stream",
          "text": [
            "60000\n",
            "20000\n"
          ]
        }
      ],
      "source": [
        "print(len(train_images))\n",
        "print(len(test_images))\n"
      ]
    },
    {
      "cell_type": "code",
      "execution_count": 54,
      "metadata": {},
      "outputs": [
        {
          "name": "stdout",
          "output_type": "stream",
          "text": [
            "6000\n",
            "2000\n"
          ]
        }
      ],
      "source": [
        "data_ratio = 0.1\n",
        "train_images = train_images[:int(len(train_images) * data_ratio)]\n",
        "train_labels = train_labels[:int(len(train_labels) * data_ratio)]\n",
        "test_images = test_images[:int(len(test_images) * data_ratio)]\n",
        "test_labels = test_labels[:int(len(test_labels) * data_ratio)]\n",
        "\n",
        "print(len(train_images))\n",
        "print(len(test_images))\n"
      ]
    },
    {
      "cell_type": "code",
      "execution_count": 55,
      "metadata": {
        "colab": {
          "base_uri": "https://localhost:8080/"
        },
        "id": "tw2MzLVzXHfe",
        "outputId": "914070a9-763e-4ed6-a749-788c30add231"
      },
      "outputs": [
        {
          "name": "stdout",
          "output_type": "stream",
          "text": [
            "(6000,)\n",
            "(6000,)\n",
            "(2000,)\n",
            "(2000,)\n"
          ]
        },
        {
          "name": "stderr",
          "output_type": "stream",
          "text": [
            "/home/smbh/.virtualenvs/phdr/lib/python3.10/site-packages/numpy/core/fromnumeric.py:43: VisibleDeprecationWarning: Creating an ndarray from ragged nested sequences (which is a list-or-tuple of lists-or-tuples-or ndarrays with different lengths or shapes) is deprecated. If you meant to do this, you must specify 'dtype=object' when creating the ndarray.\n",
            "  result = getattr(asarray(obj), method)(*args, **kwds)\n"
          ]
        }
      ],
      "source": [
        "x_train = np.squeeze(train_images)\n",
        "y_train = np.squeeze(train_labels)\n",
        "x_test = np.squeeze(test_images)\n",
        "y_test = np.squeeze(test_labels)\n",
        "print(x_train.shape)\n",
        "print(y_train.shape)\n",
        "print(x_test.shape)\n",
        "print(y_test.shape)\n"
      ]
    },
    {
      "cell_type": "code",
      "execution_count": 56,
      "metadata": {
        "colab": {
          "base_uri": "https://localhost:8080/",
          "height": 282
        },
        "id": "6uIv26T3YXcK",
        "outputId": "516ef8d6-97ea-40de-94dd-5045ff671440"
      },
      "outputs": [
        {
          "name": "stdout",
          "output_type": "stream",
          "text": [
            "label:  0\n"
          ]
        },
        {
          "data": {
            "image/png": "[encoded data removed]",
            "text/plain": [
              "<Figure size 640x480 with 1 Axes>"
            ]
          },
          "metadata": {},
          "output_type": "display_data"
        }
      ],
      "source": [
        "print(\"label: \", y_test[10])\n",
        "plt.imshow(x_test[10], cmap=\"gray\")\n",
        "plt.show()\n"
      ]
    },
    {
      "cell_type": "code",
      "execution_count": 57,
      "metadata": {
        "id": "CO2Ul_bZYodt"
      },
      "outputs": [],
      "source": [
        "# resize 5 by 5 (to reduce features)\n",
        "x_train_5x5 = [resize(img, (5, 5)) for img in x_train]\n",
        "x_test_5x5 = [resize(img, (5, 5)) for img in x_test]\n"
      ]
    },
    {
      "cell_type": "code",
      "execution_count": 58,
      "metadata": {
        "colab": {
          "base_uri": "https://localhost:8080/",
          "height": 282
        },
        "id": "riXDELKnZ_yA",
        "outputId": "b7219d87-cf92-49cb-ac25-de3d29cef37f"
      },
      "outputs": [
        {
          "name": "stdout",
          "output_type": "stream",
          "text": [
            "label:  0\n"
          ]
        },
        {
          "data": {
            "image/png": "[encoded data removed]",
            "text/plain": [
              "<Figure size 640x480 with 1 Axes>"
            ]
          },
          "metadata": {},
          "output_type": "display_data"
        }
      ],
      "source": [
        "print(\"label: \", y_test[10])\n",
        "plt.imshow(x_test_5x5[10], cmap=\"gray\")\n",
        "plt.show()\n"
      ]
    },
    {
      "cell_type": "code",
      "execution_count": 59,
      "metadata": {
        "id": "qLfR24Vgaf2I"
      },
      "outputs": [],
      "source": [
        "# reshape 5x5 to a vector with 25 items\n",
        "x_train_5x5_feat = [x.reshape(25) for x in x_train_5x5]\n",
        "x_test_5x5_feat = [x.reshape(25) for x in x_test_5x5]\n"
      ]
    },
    {
      "cell_type": "code",
      "execution_count": 60,
      "metadata": {
        "colab": {
          "base_uri": "https://localhost:8080/"
        },
        "id": "UJM2cl24a1Lc",
        "outputId": "5ab9304f-7651-45b0-ddd7-2fa41853f1d4"
      },
      "outputs": [
        {
          "data": {
            "text/html": [
              "<style>#sk-container-id-2 {color: black;background-color: white;}#sk-container-id-2 pre{padding: 0;}#sk-container-id-2 div.sk-toggleable {background-color: white;}#sk-container-id-2 label.sk-toggleable__label {cursor: pointer;display: block;width: 100%;margin-bottom: 0;padding: 0.3em;box-sizing: border-box;text-align: center;}#sk-container-id-2 label.sk-toggleable__label-arrow:before {content: \"▸\";float: left;margin-right: 0.25em;color: #696969;}#sk-container-id-2 label.sk-toggleable__label-arrow:hover:before {color: black;}#sk-container-id-2 div.sk-estimator:hover label.sk-toggleable__label-arrow:before {color: black;}#sk-container-id-2 div.sk-toggleable__content {max-height: 0;max-width: 0;overflow: hidden;text-align: left;background-color: #f0f8ff;}#sk-container-id-2 div.sk-toggleable__content pre {margin: 0.2em;color: black;border-radius: 0.25em;background-color: #f0f8ff;}#sk-container-id-2 input.sk-toggleable__control:checked~div.sk-toggleable__content {max-height: 200px;max-width: 100%;overflow: auto;}#sk-container-id-2 input.sk-toggleable__control:checked~label.sk-toggleable__label-arrow:before {content: \"▾\";}#sk-container-id-2 div.sk-estimator input.sk-toggleable__control:checked~label.sk-toggleable__label {background-color: #d4ebff;}#sk-container-id-2 div.sk-label input.sk-toggleable__control:checked~label.sk-toggleable__label {background-color: #d4ebff;}#sk-container-id-2 input.sk-hidden--visually {border: 0;clip: rect(1px 1px 1px 1px);clip: rect(1px, 1px, 1px, 1px);height: 1px;margin: -1px;overflow: hidden;padding: 0;position: absolute;width: 1px;}#sk-container-id-2 div.sk-estimator {font-family: monospace;background-color: #f0f8ff;border: 1px dotted black;border-radius: 0.25em;box-sizing: border-box;margin-bottom: 0.5em;}#sk-container-id-2 div.sk-estimator:hover {background-color: #d4ebff;}#sk-container-id-2 div.sk-parallel-item::after {content: \"\";width: 100%;border-bottom: 1px solid gray;flex-grow: 1;}#sk-container-id-2 div.sk-label:hover label.sk-toggleable__label {background-color: #d4ebff;}#sk-container-id-2 div.sk-serial::before {content: \"\";position: absolute;border-left: 1px solid gray;box-sizing: border-box;top: 0;bottom: 0;left: 50%;z-index: 0;}#sk-container-id-2 div.sk-serial {display: flex;flex-direction: column;align-items: center;background-color: white;padding-right: 0.2em;padding-left: 0.2em;position: relative;}#sk-container-id-2 div.sk-item {position: relative;z-index: 1;}#sk-container-id-2 div.sk-parallel {display: flex;align-items: stretch;justify-content: center;background-color: white;position: relative;}#sk-container-id-2 div.sk-item::before, #sk-container-id-2 div.sk-parallel-item::before {content: \"\";position: absolute;border-left: 1px solid gray;box-sizing: border-box;top: 0;bottom: 0;left: 50%;z-index: -1;}#sk-container-id-2 div.sk-parallel-item {display: flex;flex-direction: column;z-index: 1;position: relative;background-color: white;}#sk-container-id-2 div.sk-parallel-item:first-child::after {align-self: flex-end;width: 50%;}#sk-container-id-2 div.sk-parallel-item:last-child::after {align-self: flex-start;width: 50%;}#sk-container-id-2 div.sk-parallel-item:only-child::after {width: 0;}#sk-container-id-2 div.sk-dashed-wrapped {border: 1px dashed gray;margin: 0 0.4em 0.5em 0.4em;box-sizing: border-box;padding-bottom: 0.4em;background-color: white;}#sk-container-id-2 div.sk-label label {font-family: monospace;font-weight: bold;display: inline-block;line-height: 1.2em;}#sk-container-id-2 div.sk-label-container {text-align: center;}#sk-container-id-2 div.sk-container {/* jupyter's `normalize.less` sets `[hidden] { display: none; }` but bootstrap.min.css set `[hidden] { display: none !important; }` so we also need the `!important` here to be able to override the default hidden behavior on the sphinx rendered scikit-learn.org. See: https://github.com/scikit-learn/scikit-learn/issues/21755 */display: inline-block !important;position: relative;}#sk-container-id-2 div.sk-text-repr-fallback {display: none;}</style><div id=\"sk-container-id-2\" class=\"sk-top-container\"><div class=\"sk-text-repr-fallback\"><pre>KNeighborsClassifier()</pre><b>In a Jupyter environment, please rerun this cell to show the HTML representation or trust the notebook. <br />On GitHub, the HTML representation is unable to render, please try loading this page with nbviewer.org.</b></div><div class=\"sk-container\" hidden><div class=\"sk-item\"><div class=\"sk-estimator sk-toggleable\"><input class=\"sk-toggleable__control sk-hidden--visually\" id=\"sk-estimator-id-2\" type=\"checkbox\" checked><label for=\"sk-estimator-id-2\" class=\"sk-toggleable__label sk-toggleable__label-arrow\">KNeighborsClassifier</label><div class=\"sk-toggleable__content\"><pre>KNeighborsClassifier()</pre></div></div></div></div></div>"
            ],
            "text/plain": [
              "KNeighborsClassifier()"
            ]
          },
          "execution_count": 60,
          "metadata": {},
          "output_type": "execute_result"
        }
      ],
      "source": [
        "model = KNeighborsClassifier(n_neighbors=5)\n",
        "model.fit(x_train_5x5_feat, y_train)\n"
      ]
    },
    {
      "cell_type": "code",
      "execution_count": 61,
      "metadata": {
        "colab": {
          "base_uri": "https://localhost:8080/"
        },
        "id": "LuRJUAXtcd3F",
        "outputId": "b3ab61d3-fef5-4768-9648-cac1ba7966c3"
      },
      "outputs": [
        {
          "name": "stdout",
          "output_type": "stream",
          "text": [
            "Sample 42 is 0 and predicted as [0]\n"
          ]
        }
      ],
      "source": [
        "sample = 42\n",
        "x_sample = [x_test_5x5_feat[sample]]\n",
        "y_pred = model.predict(x_sample)\n",
        "y_test_sample = y_test[sample]\n",
        "\n",
        "print(f\"Sample {sample} is {y_test_sample} and predicted as {y_pred}\")\n"
      ]
    },
    {
      "cell_type": "code",
      "execution_count": 62,
      "metadata": {
        "colab": {
          "base_uri": "https://localhost:8080/"
        },
        "id": "5ScnektufGdl",
        "outputId": "fb2c1c9e-ace1-4008-ac39-512e4f5f53bb"
      },
      "outputs": [
        {
          "name": "stdout",
          "output_type": "stream",
          "text": [
            "[[1. 0. 0. 0. 0. 0. 0. 0. 0. 0.]]\n"
          ]
        }
      ],
      "source": [
        "print(model.predict_proba(x_sample))\n"
      ]
    },
    {
      "cell_type": "code",
      "execution_count": 65,
      "metadata": {
        "id": "wF7yMYNMfM0A"
      },
      "outputs": [
        {
          "name": "stdout",
          "output_type": "stream",
          "text": [
            "Predicted classes: [0 0 5 0 0 5 0 0 0 1]\n",
            "Actual classes: [0 0 0 0 0 0 0 0 0 0]\n",
            "score: 0.9315\n"
          ]
        }
      ],
      "source": [
        "y_pred = model.predict(x_test_5x5_feat)\n",
        "print(f\"Predicted classes: {y_pred[:10]}\")\n",
        "print(f\"Actual classes: {y_test[:10]}\")\n",
        "\n",
        "print(f\"score: {model.score(x_test_5x5_feat, y_test)}\")\n"
      ]
    },
    {
      "cell_type": "code",
      "execution_count": null,
      "metadata": {},
      "outputs": [],
      "source": []
    }
  ],
  "metadata": {
    "colab": {
      "authorship_tag": "ABX9TyOleXa7SxqiI/Enxf7XmVqJ",
      "include_colab_link": true,
      "provenance": []
    },
    "kernelspec": {
      "display_name": "phdr",
      "language": "python",
      "name": "python3"
    },
    "language_info": {
      "codemirror_mode": {
        "name": "ipython",
        "version": 3
      },
      "file_extension": ".py",
      "mimetype": "text/x-python",
      "name": "python",
      "nbconvert_exporter": "python",
      "pygments_lexer": "ipython3",
      "version": "3.10.8 (main, Nov  4 2022, 09:21:25) [GCC 12.2.0]"
    },
    "vscode": {
      "interpreter": {
        "hash": "2129303710722de66936dadef14ac1aad98235754bcabb2e431d04fa12b354c1"
      }
    }
  },
  "nbformat": 4,
  "nbformat_minor": 0
}
